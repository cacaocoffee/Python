{
  "nbformat": 4,
  "nbformat_minor": 0,
  "metadata": {
    "colab": {
      "name": "Untitled2.ipynb",
      "provenance": [],
      "authorship_tag": "ABX9TyMagU+6kkFw4KOx6hnQVGgA",
      "include_colab_link": true
    },
    "kernelspec": {
      "name": "python3",
      "display_name": "Python 3"
    },
    "language_info": {
      "name": "python"
    }
  },
  "cells": [
    {
      "cell_type": "markdown",
      "metadata": {
        "id": "view-in-github",
        "colab_type": "text"
      },
      "source": [
        "<a href=\"https://colab.research.google.com/github/cacaocoffee/Python/blob/main/1129%EC%84%A0%ED%98%95%EB%8C%80%EC%88%98%EC%8B%A4%EC%8A%B5.ipynb\" target=\"_parent\"><img src=\"https://colab.research.google.com/assets/colab-badge.svg\" alt=\"Open In Colab\"/></a>"
      ]
    },
    {
      "cell_type": "markdown",
      "metadata": {
        "id": "rukojrqi-RGE"
      },
      "source": [
        "행렬 \n",
        "---\n",
        "\n",
        "첫번째 행 1행 1열 2열\n",
        "2번쨰행  2행 1열~"
      ]
    },
    {
      "cell_type": "code",
      "metadata": {
        "id": "PQ7OTnF295a5"
      },
      "source": [
        "import numpy as np;\n"
      ],
      "execution_count": 13,
      "outputs": []
    },
    {
      "cell_type": "code",
      "metadata": {
        "colab": {
          "base_uri": "https://localhost:8080/"
        },
        "id": "a_A3jzom_k_K",
        "outputId": "530804e9-08c9-4c62-da11-f3a1b9055179"
      },
      "source": [
        "A = np.array([[0 , 1, -2.3, 0.1], [1.3, 4, -0.1, 0], [ 4.1 , -1, 0 , 1.7]])\n",
        "print(A)\n",
        "print(A.shape)"
      ],
      "execution_count": 18,
      "outputs": [
        {
          "output_type": "stream",
          "name": "stdout",
          "text": [
            "[[ 0.   1.  -2.3  0.1]\n",
            " [ 1.3  4.  -0.1  0. ]\n",
            " [ 4.1 -1.   0.   1.7]]\n",
            "(3, 4)\n"
          ]
        }
      ]
    },
    {
      "cell_type": "code",
      "metadata": {
        "colab": {
          "base_uri": "https://localhost:8080/"
        },
        "id": "awuWjhIa-3y3",
        "outputId": "9013760a-4e97-4c2a-8ff3-ea510139162e"
      },
      "source": [
        "m,n = A.shape\n",
        "print('#of rows:',m)\n",
        "print('#of cols:',n)"
      ],
      "execution_count": 21,
      "outputs": [
        {
          "output_type": "stream",
          "name": "stdout",
          "text": [
            "#of rows: 3\n",
            "#of cols: 4\n"
          ]
        }
      ]
    },
    {
      "cell_type": "code",
      "metadata": {
        "colab": {
          "base_uri": "https://localhost:8080/"
        },
        "id": "uOcf3yylAIsi",
        "outputId": "5fac19a8-3fff-4b8a-8359-b1af0920a82a"
      },
      "source": [
        "tall = lambda X : X.shape[0] > X.shape[1]\n",
        "tall(A)"
      ],
      "execution_count": 23,
      "outputs": [
        {
          "output_type": "execute_result",
          "data": {
            "text/plain": [
              "False"
            ]
          },
          "metadata": {},
          "execution_count": 23
        }
      ]
    },
    {
      "cell_type": "code",
      "metadata": {
        "colab": {
          "base_uri": "https://localhost:8080/"
        },
        "id": "O4faSBSnAUeM",
        "outputId": "3ba343bc-ded7-45e2-b5c0-7f387b6973b2"
      },
      "source": [
        "wide = lambda X: X.shape[0] < X.shape[1]\n",
        "wide(A)"
      ],
      "execution_count": 24,
      "outputs": [
        {
          "output_type": "execute_result",
          "data": {
            "text/plain": [
              "True"
            ]
          },
          "metadata": {},
          "execution_count": 24
        }
      ]
    },
    {
      "cell_type": "code",
      "metadata": {
        "colab": {
          "base_uri": "https://localhost:8080/"
        },
        "id": "eDKxkqTuApBD",
        "outputId": "324062e4-9a8d-4a21-e077-e63d9107e5e2"
      },
      "source": [
        "A[0,2]"
      ],
      "execution_count": 26,
      "outputs": [
        {
          "output_type": "execute_result",
          "data": {
            "text/plain": [
              "-2.3"
            ]
          },
          "metadata": {},
          "execution_count": 26
        }
      ]
    },
    {
      "cell_type": "code",
      "metadata": {
        "colab": {
          "base_uri": "https://localhost:8080/"
        },
        "id": "nkv6JQDSA9tg",
        "outputId": "7fa2148b-45b3-434a-9a60-2fa76df759da"
      },
      "source": [
        "A[0,2]= 7.5\n",
        "A"
      ],
      "execution_count": 27,
      "outputs": [
        {
          "output_type": "execute_result",
          "data": {
            "text/plain": [
              "array([[ 0. ,  1. ,  7.5,  0.1],\n",
              "       [ 1.3,  4. , -0.1,  0. ],\n",
              "       [ 4.1, -1. ,  0. ,  1.7]])"
            ]
          },
          "metadata": {},
          "execution_count": 27
        }
      ]
    },
    {
      "cell_type": "code",
      "metadata": {
        "colab": {
          "base_uri": "https://localhost:8080/"
        },
        "id": "o1mEFAcvBnba",
        "outputId": "1cbaa7c8-ba56-4cdc-e6c1-c0911287b203"
      },
      "source": [
        "A = np.array([[0 , 1, -2.3, 0.1], [1.3, 4, -0.1, 0], [ 4.1 , -1, 0 , 1.7]])\n",
        "B = A.copy()\n",
        "print(A==B)\n",
        "print(np.sum(A==B))"
      ],
      "execution_count": 30,
      "outputs": [
        {
          "output_type": "stream",
          "name": "stdout",
          "text": [
            "[[ True  True  True  True]\n",
            " [ True  True  True  True]\n",
            " [ True  True  True  True]]\n",
            "12\n"
          ]
        }
      ]
    },
    {
      "cell_type": "code",
      "metadata": {
        "colab": {
          "base_uri": "https://localhost:8080/"
        },
        "id": "aB7kVM_rCCOg",
        "outputId": "5bcb8e5a-0477-49f0-fdbf-6d4a23c4751c"
      },
      "source": [
        "B[0,3] = 80\n",
        "print(A==B)\n",
        "print(np.sum(A==B))"
      ],
      "execution_count": 31,
      "outputs": [
        {
          "output_type": "stream",
          "name": "stdout",
          "text": [
            "[[ True  True  True False]\n",
            " [ True  True  True  True]\n",
            " [ True  True  True  True]]\n",
            "11\n"
          ]
        }
      ]
    },
    {
      "cell_type": "code",
      "metadata": {
        "colab": {
          "base_uri": "https://localhost:8080/"
        },
        "id": "FXfRSxfzB8t8",
        "outputId": "3909ea80-8625-4624-9687-c7e6d4db6d88"
      },
      "source": [
        "A = np.array([[-1, 0, 1, 0], [2, -3, 0, 1], [0, 4, -2, 1]])\n",
        "A[0:2,2:4]"
      ],
      "execution_count": 32,
      "outputs": [
        {
          "output_type": "execute_result",
          "data": {
            "text/plain": [
              "array([[1, 0],\n",
              "       [0, 1]])"
            ]
          },
          "metadata": {},
          "execution_count": 32
        }
      ]
    },
    {
      "cell_type": "code",
      "metadata": {
        "colab": {
          "base_uri": "https://localhost:8080/"
        },
        "id": "RhVkhlJkDuNU",
        "outputId": "15e385f2-0a0f-4b79-feb8-26267948833a"
      },
      "source": [
        "A[0:3,2:3]\n",
        "#3열만 뽑아내는"
      ],
      "execution_count": 38,
      "outputs": [
        {
          "output_type": "execute_result",
          "data": {
            "text/plain": [
              "array([[ 1],\n",
              "       [ 0],\n",
              "       [-2]])"
            ]
          },
          "metadata": {},
          "execution_count": 38
        }
      ]
    },
    {
      "cell_type": "code",
      "metadata": {
        "colab": {
          "base_uri": "https://localhost:8080/"
        },
        "id": "ujvWLkQUEW6J",
        "outputId": "60f9a64f-45c6-4091-cc33-d6e215e70c73"
      },
      "source": [
        "A[:,2]"
      ],
      "execution_count": 39,
      "outputs": [
        {
          "output_type": "execute_result",
          "data": {
            "text/plain": [
              "array([ 1,  0, -2])"
            ]
          },
          "metadata": {},
          "execution_count": 39
        }
      ]
    },
    {
      "cell_type": "code",
      "metadata": {
        "colab": {
          "base_uri": "https://localhost:8080/"
        },
        "id": "WoAumebyEfnf",
        "outputId": "4016db16-02f5-43b5-80cc-f9f3d402e2e3"
      },
      "source": [
        "A[1,:]\n",
        "#:을 없애도 동일하다.\n",
        "A[1,]"
      ],
      "execution_count": 42,
      "outputs": [
        {
          "output_type": "execute_result",
          "data": {
            "text/plain": [
              "array([ 2, -3,  0,  1])"
            ]
          },
          "metadata": {},
          "execution_count": 42
        }
      ]
    },
    {
      "cell_type": "markdown",
      "metadata": {
        "id": "KymgXaVWE-6p"
      },
      "source": [
        "reshape\n",
        "원소의 갯수는 같은데 행렬만 달라지는것"
      ]
    },
    {
      "cell_type": "code",
      "metadata": {
        "colab": {
          "base_uri": "https://localhost:8080/"
        },
        "id": "s-aPJnYgE9ub",
        "outputId": "8ca34c36-3214-442d-be1a-f21f37a9616e"
      },
      "source": [
        "A.reshape(6,2)\n",
        "A.reshape(4,3)\n",
        "#3,2는 원소의 갯수가 달라지기에 사용불가"
      ],
      "execution_count": 45,
      "outputs": [
        {
          "output_type": "execute_result",
          "data": {
            "text/plain": [
              "array([[-1,  0,  1],\n",
              "       [ 0,  2, -3],\n",
              "       [ 0,  1,  0],\n",
              "       [ 4, -2,  1]])"
            ]
          },
          "metadata": {},
          "execution_count": 45
        }
      ]
    },
    {
      "cell_type": "code",
      "metadata": {
        "colab": {
          "base_uri": "https://localhost:8080/"
        },
        "id": "gLPxmILKF8IB",
        "outputId": "7800e61e-a055-4e0c-d989-88e165bb92ed"
      },
      "source": [
        "B = np.array([0,2,3])\n",
        "C = np.array([-1])\n",
        "D = np.array([[2,2,1],[1,3,5]])\n",
        "E = np.array([[4],[4]])\n",
        "#행의 개수와 열의 갯수가 잘 맞아야함 그걸 통해서 블럭함수로 큰 행렬을 만들수 있다.\n",
        "\n",
        "A = np.block([[B,C], [D,E]])\n",
        "A"
      ],
      "execution_count": 48,
      "outputs": [
        {
          "output_type": "execute_result",
          "data": {
            "text/plain": [
              "array([[ 0,  2,  3, -1],\n",
              "       [ 2,  2,  1,  4],\n",
              "       [ 1,  3,  5,  4]])"
            ]
          },
          "metadata": {},
          "execution_count": 48
        }
      ]
    },
    {
      "cell_type": "markdown",
      "metadata": {
        "id": "zxYXxyxDGtPp"
      },
      "source": [
        "vstack 수직방향으로 쌓기\n",
        "hstack 수평방향으로 나열"
      ]
    },
    {
      "cell_type": "code",
      "metadata": {
        "colab": {
          "base_uri": "https://localhost:8080/"
        },
        "id": "r9cy3q3FGDB3",
        "outputId": "c5de0427-85df-42c2-b204-86957037e0bb"
      },
      "source": [
        "a = [1,2]\n",
        "b = [3,4]\n",
        "c = [7,8] # abc 가 행벡터\n",
        "A = np.vstack([a,b,c])\n",
        "B = np.hstack([a,b,c])\n",
        "print(A)\n",
        "print(B)"
      ],
      "execution_count": 51,
      "outputs": [
        {
          "output_type": "stream",
          "name": "stdout",
          "text": [
            "[[1 2]\n",
            " [3 4]\n",
            " [7 8]]\n",
            "[1 2 3 4 7 8]\n"
          ]
        }
      ]
    },
    {
      "cell_type": "code",
      "metadata": {
        "colab": {
          "base_uri": "https://localhost:8080/"
        },
        "id": "66S-wjfoHUA-",
        "outputId": "77203a3b-251d-42e8-999a-9bd2ae107da6"
      },
      "source": [
        "a = [[1],[2]]\n",
        "b = [[3],[4]]\n",
        "c = [[5],[6]]\n",
        "A = np.vstack([a,b,c])\n",
        "B = np.hstack([a,b,c])\n",
        "print(A)\n",
        "print(B)"
      ],
      "execution_count": 52,
      "outputs": [
        {
          "output_type": "stream",
          "name": "stdout",
          "text": [
            "[[1]\n",
            " [2]\n",
            " [3]\n",
            " [4]\n",
            " [5]\n",
            " [6]]\n",
            "[[1 3 5]\n",
            " [2 4 6]]\n"
          ]
        }
      ]
    },
    {
      "cell_type": "markdown",
      "metadata": {
        "id": "dgMCUctFH8j2"
      },
      "source": [
        "0행렬 만드는 np.zeros((@,@)) "
      ]
    },
    {
      "cell_type": "code",
      "metadata": {
        "colab": {
          "base_uri": "https://localhost:8080/"
        },
        "id": "C0Cpn-Q_IBGm",
        "outputId": "7916b8d7-9f8c-4d5f-ef9f-5a0336badbdf"
      },
      "source": [
        "np.zeros((3,4))"
      ],
      "execution_count": 55,
      "outputs": [
        {
          "output_type": "execute_result",
          "data": {
            "text/plain": [
              "array([[0., 0., 0., 0.],\n",
              "       [0., 0., 0., 0.],\n",
              "       [0., 0., 0., 0.]])"
            ]
          },
          "metadata": {},
          "execution_count": 55
        }
      ]
    },
    {
      "cell_type": "code",
      "metadata": {
        "colab": {
          "base_uri": "https://localhost:8080/"
        },
        "id": "TJOfBNJFJKdM",
        "outputId": "dcfcbeb0-c506-4323-fbd7-ebd40c0a20e7"
      },
      "source": [
        "np.ones((3,4))"
      ],
      "execution_count": 56,
      "outputs": [
        {
          "output_type": "execute_result",
          "data": {
            "text/plain": [
              "array([[1., 1., 1., 1.],\n",
              "       [1., 1., 1., 1.],\n",
              "       [1., 1., 1., 1.]])"
            ]
          },
          "metadata": {},
          "execution_count": 56
        }
      ]
    },
    {
      "cell_type": "code",
      "metadata": {
        "colab": {
          "base_uri": "https://localhost:8080/"
        },
        "id": "fooSjGg8JNLY",
        "outputId": "2501f4aa-b43e-4dcd-8b67-f772b3474d8f"
      },
      "source": [
        "np.identity(4)"
      ],
      "execution_count": 57,
      "outputs": [
        {
          "output_type": "execute_result",
          "data": {
            "text/plain": [
              "array([[1., 0., 0., 0.],\n",
              "       [0., 1., 0., 0.],\n",
              "       [0., 0., 1., 0.],\n",
              "       [0., 0., 0., 1.]])"
            ]
          },
          "metadata": {},
          "execution_count": 57
        }
      ]
    },
    {
      "cell_type": "code",
      "metadata": {
        "colab": {
          "base_uri": "https://localhost:8080/"
        },
        "id": "T__ZujcTJPu7",
        "outputId": "385c5070-4a14-4fd3-dc9d-c07268c64ecc"
      },
      "source": [
        "x = np.array([[0,1,2],[3,4,5],[6,7,8]])\n",
        "v = np.diag(x)\n",
        "v"
      ],
      "execution_count": 60,
      "outputs": [
        {
          "output_type": "execute_result",
          "data": {
            "text/plain": [
              "array([0, 4, 8])"
            ]
          },
          "metadata": {},
          "execution_count": 60
        }
      ]
    },
    {
      "cell_type": "code",
      "metadata": {
        "colab": {
          "base_uri": "https://localhost:8080/"
        },
        "id": "Y1f2iYZeJU9x",
        "outputId": "de9b34cb-c186-427c-8ffd-5977941e85f5"
      },
      "source": [
        "y = np.diag(v)\n",
        "y"
      ],
      "execution_count": 62,
      "outputs": [
        {
          "output_type": "execute_result",
          "data": {
            "text/plain": [
              "array([[0, 0, 0],\n",
              "       [0, 4, 0],\n",
              "       [0, 0, 8]])"
            ]
          },
          "metadata": {},
          "execution_count": 62
        }
      ]
    },
    {
      "cell_type": "code",
      "metadata": {
        "id": "hkWvFGz9Ji1A"
      },
      "source": [
        "np.random.random((3,4))"
      ],
      "execution_count": null,
      "outputs": []
    },
    {
      "cell_type": "code",
      "metadata": {
        "colab": {
          "base_uri": "https://localhost:8080/"
        },
        "id": "T_BIYZxAJonE",
        "outputId": "4a91c0bf-97fe-4aa8-bf50-844d43259ea8"
      },
      "source": [
        "np.random.randn(3,4)"
      ],
      "execution_count": 65,
      "outputs": [
        {
          "output_type": "execute_result",
          "data": {
            "text/plain": [
              "array([[ 0.4910297 , -0.00906744, -0.0992958 , -3.50172186],\n",
              "       [-0.70360879, -0.66136055, -0.56501026, -0.34122116],\n",
              "       [-3.085255  , -0.62842486, -1.44656806, -0.42559906]])"
            ]
          },
          "metadata": {},
          "execution_count": 65
        }
      ]
    },
    {
      "cell_type": "markdown",
      "metadata": {
        "id": "ZSPeEbF9J7oQ"
      },
      "source": [
        "Sparse matrices  대부분이 0의값을 가진 행렬\n",
        "\n",
        "---\n",
        "\n",
        "\n",
        "dense 대부분이 0이 아닌값을 가진 행렬"
      ]
    },
    {
      "cell_type": "markdown",
      "metadata": {
        "id": "5jlsI8aKKMfh"
      },
      "source": [
        "Sparse한 행렬을 보면 메모리가 낭비 되는 경우가 많기에 필요한 것만 계산하기위함\n",
        "실제로는 sparse한 행렬을 많이 다루게 된다. 특별하게 취급해서 처리 해야한다."
      ]
    },
    {
      "cell_type": "code",
      "metadata": {
        "colab": {
          "base_uri": "https://localhost:8080/"
        },
        "id": "Mut4cYemKnYc",
        "outputId": "3b2b1f9f-643d-47f5-aec2-8a687792433c"
      },
      "source": [
        "H = np.array([[0,1,-2,1], [2,-1,3,0]])\n",
        "H.T"
      ],
      "execution_count": 66,
      "outputs": [
        {
          "output_type": "execute_result",
          "data": {
            "text/plain": [
              "array([[ 0,  2],\n",
              "       [ 1, -1],\n",
              "       [-2,  3],\n",
              "       [ 1,  0]])"
            ]
          },
          "metadata": {},
          "execution_count": 66
        }
      ]
    },
    {
      "cell_type": "code",
      "metadata": {
        "colab": {
          "base_uri": "https://localhost:8080/"
        },
        "id": "3cJgn4lzMP-6",
        "outputId": "fc00c4d5-a4ae-4415-cb66-53f03ec57aaf"
      },
      "source": [
        "np.transpose(H)"
      ],
      "execution_count": 67,
      "outputs": [
        {
          "output_type": "execute_result",
          "data": {
            "text/plain": [
              "array([[ 0,  2],\n",
              "       [ 1, -1],\n",
              "       [-2,  3],\n",
              "       [ 1,  0]])"
            ]
          },
          "metadata": {},
          "execution_count": 67
        }
      ]
    },
    {
      "cell_type": "code",
      "metadata": {
        "colab": {
          "base_uri": "https://localhost:8080/"
        },
        "id": "Av5lddNRMX_B",
        "outputId": "c654b87b-9fec-4df7-acb4-ced498381e70"
      },
      "source": [
        "U = np.array([[0,4], [7,0], [3,1]])\n",
        "V = np.array([[1,2], [2,3], [0,4]])\n",
        "U + V"
      ],
      "execution_count": 68,
      "outputs": [
        {
          "output_type": "execute_result",
          "data": {
            "text/plain": [
              "array([[1, 6],\n",
              "       [9, 3],\n",
              "       [3, 5]])"
            ]
          },
          "metadata": {},
          "execution_count": 68
        }
      ]
    },
    {
      "cell_type": "code",
      "metadata": {
        "colab": {
          "base_uri": "https://localhost:8080/"
        },
        "id": "puh_QmQPMbPh",
        "outputId": "be687e92-dc31-45b6-8904-76e9c1cc8c64"
      },
      "source": [
        "2.2*U"
      ],
      "execution_count": 69,
      "outputs": [
        {
          "output_type": "execute_result",
          "data": {
            "text/plain": [
              "array([[ 0. ,  8.8],\n",
              "       [15.4,  0. ],\n",
              "       [ 6.6,  2.2]])"
            ]
          },
          "metadata": {},
          "execution_count": 69
        }
      ]
    },
    {
      "cell_type": "code",
      "metadata": {
        "colab": {
          "base_uri": "https://localhost:8080/"
        },
        "id": "uJmEdU8eMfCG",
        "outputId": "32d187be-53e3-4d85-a07f-4d69dae7042e"
      },
      "source": [
        "A = np.array([[2,3,-1], [0,-1,4]])\n",
        "np.linalg.norm(A)\n",
        "#linear algebra \n"
      ],
      "execution_count": 70,
      "outputs": [
        {
          "output_type": "execute_result",
          "data": {
            "text/plain": [
              "5.5677643628300215"
            ]
          },
          "metadata": {},
          "execution_count": 70
        }
      ]
    },
    {
      "cell_type": "code",
      "metadata": {
        "colab": {
          "base_uri": "https://localhost:8080/"
        },
        "id": "re53kCMgMqXU",
        "outputId": "f41cdf7c-be16-4815-c874-591465e093ef"
      },
      "source": [
        "A = np.array([[0,2,-1],[-2,1,1]])\n",
        "x = np.array([2,1,-1])\n",
        "A @ x"
      ],
      "execution_count": 72,
      "outputs": [
        {
          "output_type": "execute_result",
          "data": {
            "text/plain": [
              "array([ 3, -4])"
            ]
          },
          "metadata": {},
          "execution_count": 72
        }
      ]
    },
    {
      "cell_type": "code",
      "metadata": {
        "colab": {
          "base_uri": "https://localhost:8080/"
        },
        "id": "_Rcr-42ONcaK",
        "outputId": "ac9427bc-03cc-493a-a314-07b723391caa"
      },
      "source": [
        "Rot = lambda theta : [[np.cos(theta), -np.sin(theta)], [np.sin(theta), np.cos(theta)]]\n",
        "R = Rot(np.pi/3)\n",
        "R # 60 도 회전에 대한 행렬이 된다.\n"
      ],
      "execution_count": 73,
      "outputs": [
        {
          "output_type": "execute_result",
          "data": {
            "text/plain": [
              "[[0.5000000000000001, -0.8660254037844386],\n",
              " [0.8660254037844386, 0.5000000000000001]]"
            ]
          },
          "metadata": {},
          "execution_count": 73
        }
      ]
    },
    {
      "cell_type": "code",
      "metadata": {
        "colab": {
          "base_uri": "https://localhost:8080/"
        },
        "id": "gGZ86DMANzJ4",
        "outputId": "905adb8e-cc5b-4d61-c42c-ade452e0f963"
      },
      "source": [
        "points = np.array([[1,0],[1.5,0], [2,0], [1,0.25], [1.5, 0.25], [1, 0.5]])\n",
        "points"
      ],
      "execution_count": 74,
      "outputs": [
        {
          "output_type": "execute_result",
          "data": {
            "text/plain": [
              "array([[1.  , 0.  ],\n",
              "       [1.5 , 0.  ],\n",
              "       [2.  , 0.  ],\n",
              "       [1.  , 0.25],\n",
              "       [1.5 , 0.25],\n",
              "       [1.  , 0.5 ]])"
            ]
          },
          "metadata": {},
          "execution_count": 74
        }
      ]
    },
    {
      "cell_type": "code",
      "metadata": {
        "colab": {
          "base_uri": "https://localhost:8080/"
        },
        "id": "KpNXmISUOGXS",
        "outputId": "afebb415-40a0-4598-cb3e-3fb4c0e7f17e"
      },
      "source": [
        "rpoints = np.array([R@ p for p in points])\n",
        "rpoints"
      ],
      "execution_count": 75,
      "outputs": [
        {
          "output_type": "execute_result",
          "data": {
            "text/plain": [
              "array([[0.5       , 0.8660254 ],\n",
              "       [0.75      , 1.29903811],\n",
              "       [1.        , 1.73205081],\n",
              "       [0.28349365, 0.9910254 ],\n",
              "       [0.53349365, 1.42403811],\n",
              "       [0.0669873 , 1.1160254 ]])"
            ]
          },
          "metadata": {},
          "execution_count": 75
        }
      ]
    },
    {
      "cell_type": "code",
      "metadata": {
        "colab": {
          "base_uri": "https://localhost:8080/",
          "height": 265
        },
        "id": "Z2QwOAS3ONLl",
        "outputId": "c942c5d0-0d2b-41a3-da65-b7d4f00ff3b1"
      },
      "source": [
        "import matplotlib.pyplot as plt\n",
        "plt.ion()\n",
        "plt.scatter([c[0] for c in points], [c[1] for c in points])\n",
        "plt.scatter([c[0] for c in rpoints], [c[1] for c in rpoints])\n",
        "plt.show()"
      ],
      "execution_count": 77,
      "outputs": [
        {
          "output_type": "display_data",
          "data": {
            "image/png": "[encoded data removed]",
            "text/plain": [
              "<Figure size 432x288 with 1 Axes>"
            ]
          },
          "metadata": {
            "needs_background": "light"
          }
        }
      ]
    }
  ]
}