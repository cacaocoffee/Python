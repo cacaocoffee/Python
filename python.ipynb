{
  "nbformat": 4,
  "nbformat_minor": 0,
  "metadata": {
    "colab": {
      "name": "python.ipynb",
      "provenance": [],
      "authorship_tag": "ABX9TyOs5mBMP2ywVGnoR3Ufd6xI",
      "include_colab_link": true
    },
    "kernelspec": {
      "name": "python3",
      "display_name": "Python 3"
    },
    "language_info": {
      "name": "python"
    }
  },
  "cells": [
    {
      "cell_type": "markdown",
      "metadata": {
        "id": "view-in-github",
        "colab_type": "text"
      },
      "source": [
        "<a href=\"https://colab.research.google.com/github/cacaocoffee/Python/blob/main/python.ipynb\" target=\"_parent\"><img src=\"https://colab.research.google.com/assets/colab-badge.svg\" alt=\"Open In Colab\"/></a>"
      ]
    },
    {
      "cell_type": "markdown",
      "metadata": {
        "id": "qK4V5U0QWUNT"
      },
      "source": [
        "숫자 %d \n",
        "스트링 %s\n",
        " \n",
        "\n"
      ]
    },
    {
      "cell_type": "code",
      "metadata": {
        "colab": {
          "base_uri": "https://localhost:8080/",
          "height": 34
        },
        "id": "uFU2ixq7V7jK",
        "outputId": "a762145a-6016-4d1d-ac85-3cebc67cf764"
      },
      "source": [
        "\"I have %s apples\" % 3\n",
        "#%s는 어떤 타입이든 다받을 수 있다."
      ],
      "execution_count": 9,
      "outputs": [
        {
          "output_type": "execute_result",
          "data": {
            "application/vnd.google.colaboratory.intrinsic+json": {
              "type": "string"
            },
            "text/plain": [
              "'I have 3 apples'"
            ]
          },
          "metadata": {},
          "execution_count": 9
        }
      ]
    },
    {
      "cell_type": "code",
      "metadata": {
        "colab": {
          "base_uri": "https://localhost:8080/",
          "height": 34
        },
        "id": "JzOuWK8bWPVl",
        "outputId": "5f092a9b-9c87-494c-d95a-c5273cfabe3f"
      },
      "source": [
        "\"I ate %d apples. so i was sick for %s day\" % (3.234 , 5) #변수 이름을 넣어도됨"
      ],
      "execution_count": 12,
      "outputs": [
        {
          "output_type": "execute_result",
          "data": {
            "application/vnd.google.colaboratory.intrinsic+json": {
              "type": "string"
            },
            "text/plain": [
              "'I ate 3 apples. so i was sick for 5 day'"
            ]
          },
          "metadata": {},
          "execution_count": 12
        }
      ]
    },
    {
      "cell_type": "code",
      "metadata": {
        "colab": {
          "base_uri": "https://localhost:8080/",
          "height": 34
        },
        "id": "k8hkdkfQW-Nw",
        "outputId": "9e42f86b-141d-48ac-fd62-8895538673fd"
      },
      "source": [
        "\"%-10s %10s %0.4f %10.4f\" %(\"왼쪽 정렬\", \"오른쪽 정렬\" , 3.141592 , 3.14159265)"
      ],
      "execution_count": 14,
      "outputs": [
        {
          "output_type": "execute_result",
          "data": {
            "application/vnd.google.colaboratory.intrinsic+json": {
              "type": "string"
            },
            "text/plain": [
              "'왼쪽 정렬          오른쪽 정렬 3.1416     3.1416'"
            ]
          },
          "metadata": {},
          "execution_count": 14
        }
      ]
    },
    {
      "cell_type": "markdown",
      "metadata": {
        "id": "SXMqVkhoXczO"
      },
      "source": [
        "format 함수를 사용한 포메팅 "
      ]
    },
    {
      "cell_type": "code",
      "metadata": {
        "colab": {
          "base_uri": "https://localhost:8080/",
          "height": 34
        },
        "id": "W8Fdix05XZpk",
        "outputId": "d085f77a-9512-4d07-e87c-71e0b91c5ac3"
      },
      "source": [
        "\"I eat {0} apples \".format(3) # 0번째 값"
      ],
      "execution_count": 15,
      "outputs": [
        {
          "output_type": "execute_result",
          "data": {
            "application/vnd.google.colaboratory.intrinsic+json": {
              "type": "string"
            },
            "text/plain": [
              "'I eat 3 apples '"
            ]
          },
          "metadata": {},
          "execution_count": 15
        }
      ]
    },
    {
      "cell_type": "code",
      "metadata": {
        "colab": {
          "base_uri": "https://localhost:8080/",
          "height": 34
        },
        "id": "0RqTrOjLXm8P",
        "outputId": "3742220a-85cd-4d8b-9547-aecc739eb927"
      },
      "source": [
        "num= 3\n",
        "day= \"therr\"\n",
        "\"I ate {0} apples. so i was sick for {1} day\".format(num, day) "
      ],
      "execution_count": 19,
      "outputs": [
        {
          "output_type": "execute_result",
          "data": {
            "application/vnd.google.colaboratory.intrinsic+json": {
              "type": "string"
            },
            "text/plain": [
              "'I ate 3 apples. so i was sick for therr day'"
            ]
          },
          "metadata": {},
          "execution_count": 19
        }
      ]
    },
    {
      "cell_type": "code",
      "metadata": {
        "colab": {
          "base_uri": "https://localhost:8080/",
          "height": 34
        },
        "id": "iXI3QQy4X-tG",
        "outputId": "d747ed81-1880-43b4-d583-801ea8899ca4"
      },
      "source": [
        "\"I ate {num} apples. so i was sick for {day} day\".format(num=15, day=3) "
      ],
      "execution_count": 20,
      "outputs": [
        {
          "output_type": "execute_result",
          "data": {
            "application/vnd.google.colaboratory.intrinsic+json": {
              "type": "string"
            },
            "text/plain": [
              "'I ate 15 apples. so i was sick for 3 day'"
            ]
          },
          "metadata": {},
          "execution_count": 20
        }
      ]
    },
    {
      "cell_type": "markdown",
      "metadata": {
        "id": "9MO2bRIZYFbU"
      },
      "source": [
        "왼쪽 정렬 {0:<10}\n",
        "오른쪽 정렬 {0:>10}\n",
        "가운데 정렬 {0:^10}\n",
        "\n"
      ]
    },
    {
      "cell_type": "code",
      "metadata": {
        "colab": {
          "base_uri": "https://localhost:8080/",
          "height": 34
        },
        "id": "CsW3D4TAYSeC",
        "outputId": "976a215e-1db8-4dd4-dae5-20b11ffb4d01"
      },
      "source": [
        "\"{0:=^10}\".format(\"HI\")# 정렬 사이에 문자를 넣는데로 채워짐"
      ],
      "execution_count": 22,
      "outputs": [
        {
          "output_type": "execute_result",
          "data": {
            "application/vnd.google.colaboratory.intrinsic+json": {
              "type": "string"
            },
            "text/plain": [
              "'====HI===='"
            ]
          },
          "metadata": {},
          "execution_count": 22
        }
      ]
    },
    {
      "cell_type": "markdown",
      "metadata": {
        "id": "tT53FB00YeG_"
      },
      "source": [
        ""
      ]
    },
    {
      "cell_type": "code",
      "metadata": {
        "colab": {
          "base_uri": "https://localhost:8080/",
          "height": 34
        },
        "id": "A3twHvMrYeem",
        "outputId": "bb83c83b-445b-489c-d169-cef9d20e46d4"
      },
      "source": [
        "\"{0:10.4f}\".format(3.1415926535) #소수점 표현은 일케  10은 정렬을 위해 "
      ],
      "execution_count": 24,
      "outputs": [
        {
          "output_type": "execute_result",
          "data": {
            "application/vnd.google.colaboratory.intrinsic+json": {
              "type": "string"
            },
            "text/plain": [
              "'    3.1416'"
            ]
          },
          "metadata": {},
          "execution_count": 24
        }
      ]
    },
    {
      "cell_type": "code",
      "metadata": {
        "colab": {
          "base_uri": "https://localhost:8080/",
          "height": 34
        },
        "id": "MQkX1bdZYrpn",
        "outputId": "aa7b277f-567f-4357-b214-d0f3a860be5c"
      },
      "source": [
        "\"{{and}}\".format()#포메팅시 문자열 그대로 하려면 {{}} 이렇게 그대로 사용해야한다."
      ],
      "execution_count": 26,
      "outputs": [
        {
          "output_type": "execute_result",
          "data": {
            "application/vnd.google.colaboratory.intrinsic+json": {
              "type": "string"
            },
            "text/plain": [
              "'{and}'"
            ]
          },
          "metadata": {},
          "execution_count": 26
        }
      ]
    },
    {
      "cell_type": "code",
      "metadata": {
        "colab": {
          "base_uri": "https://localhost:8080/",
          "height": 34
        },
        "id": "b1Cf3yNhY1r3",
        "outputId": "2db3f15f-619a-42c9-9ec4-9131645efb6e"
      },
      "source": [
        "name = '명석'\n",
        "age = 23\n",
        "f\"나의 이름은 {name}입니다. 나이는 {age+1} 입니다.\" #이렇게 포맨팅을 할수 있다 "
      ],
      "execution_count": 37,
      "outputs": [
        {
          "output_type": "execute_result",
          "data": {
            "application/vnd.google.colaboratory.intrinsic+json": {
              "type": "string"
            },
            "text/plain": [
              "'나의 이름은 명석입니다. 나이는 24 입니다.'"
            ]
          },
          "metadata": {},
          "execution_count": 37
        }
      ]
    },
    {
      "cell_type": "code",
      "metadata": {
        "colab": {
          "base_uri": "https://localhost:8080/",
          "height": 34
        },
        "id": "Z7G_A-ioZsRO",
        "outputId": "682b7ed4-0aac-48fe-d9cf-66af6a074efd"
      },
      "source": [
        "d = {'name':'명석' ,'age':24}\n",
        "f\"나의 이름은 {d['name']}입니다. 나이는 {d['age']} 입니다.\" #딕셔너리 사용법"
      ],
      "execution_count": 39,
      "outputs": [
        {
          "output_type": "execute_result",
          "data": {
            "application/vnd.google.colaboratory.intrinsic+json": {
              "type": "string"
            },
            "text/plain": [
              "'나의 이름은 명석입니다. 나이는 24 입니다.'"
            ]
          },
          "metadata": {},
          "execution_count": 39
        }
      ]
    },
    {
      "cell_type": "code",
      "metadata": {
        "colab": {
          "base_uri": "https://localhost:8080/",
          "height": 34
        },
        "id": "PmSf9yejaQ9_",
        "outputId": "30f034df-4d8b-40db-c2a5-0bc02fdd1c2b"
      },
      "source": [
        "f'{\"hi\":<10} {\"i am\":~>10} {\"명석\":!^10}' "
      ],
      "execution_count": 42,
      "outputs": [
        {
          "output_type": "execute_result",
          "data": {
            "application/vnd.google.colaboratory.intrinsic+json": {
              "type": "string"
            },
            "text/plain": [
              "'hi         ~~~~~~i am !!!!명석!!!!'"
            ]
          },
          "metadata": {},
          "execution_count": 42
        }
      ]
    },
    {
      "cell_type": "markdown",
      "metadata": {
        "id": "j_-EIyGZalpN"
      },
      "source": [
        "문자열 세는 함수 count"
      ]
    },
    {
      "cell_type": "code",
      "metadata": {
        "colab": {
          "base_uri": "https://localhost:8080/"
        },
        "id": "dOq7mJbkalVp",
        "outputId": "cd2c412e-3dfc-49c1-9d69-117c06b09007"
      },
      "source": [
        "a = \"hobby\"\n",
        "a.count('b')"
      ],
      "execution_count": 46,
      "outputs": [
        {
          "output_type": "execute_result",
          "data": {
            "text/plain": [
              "2"
            ]
          },
          "metadata": {},
          "execution_count": 46
        }
      ]
    },
    {
      "cell_type": "code",
      "metadata": {
        "colab": {
          "base_uri": "https://localhost:8080/"
        },
        "id": "tefzkAWla1VW",
        "outputId": "f2c1e2b4-1271-4e65-ae97-fd9663832939"
      },
      "source": [
        "a.find('y')#처음 나온위치 없으면 -1"
      ],
      "execution_count": 48,
      "outputs": [
        {
          "output_type": "execute_result",
          "data": {
            "text/plain": [
              "4"
            ]
          },
          "metadata": {},
          "execution_count": 48
        }
      ]
    },
    {
      "cell_type": "code",
      "metadata": {
        "colab": {
          "base_uri": "https://localhost:8080/"
        },
        "id": "7JA8Extma4t8",
        "outputId": "e99272c3-4c5b-46e1-b553-9913d1616f83"
      },
      "source": [
        "a.index('b') # find와 같지만 얜 없으면 오류나와 "
      ],
      "execution_count": 49,
      "outputs": [
        {
          "output_type": "execute_result",
          "data": {
            "text/plain": [
              "2"
            ]
          },
          "metadata": {},
          "execution_count": 49
        }
      ]
    },
    {
      "cell_type": "markdown",
      "metadata": {
        "id": "dcUYeEPCVo9-"
      },
      "source": [
        "Upper lower 소문자 대문자 전환\n"
      ]
    },
    {
      "cell_type": "code",
      "metadata": {
        "colab": {
          "base_uri": "https://localhost:8080/"
        },
        "id": "T8ceY3aqVwV2",
        "outputId": "1b92b2b1-b3b7-4322-9e5d-e64d029c2bf3"
      },
      "source": [
        "a = \"hi\"\n",
        "a.upper()\n",
        "b= \"IM\"\n",
        "b.lower()\n",
        "print(a,b)"
      ],
      "execution_count": 7,
      "outputs": [
        {
          "output_type": "stream",
          "name": "stdout",
          "text": [
            "hi IM\n"
          ]
        }
      ]
    },
    {
      "cell_type": "markdown",
      "metadata": {
        "id": "WoQHzsZ_VAoN"
      },
      "source": [
        "문자열 바꾸기 (replace)"
      ]
    },
    {
      "cell_type": "code",
      "metadata": {
        "colab": {
          "base_uri": "https://localhost:8080/",
          "height": 34
        },
        "id": "UAbR92TlVIVI",
        "outputId": "fce2667b-13d4-474b-a6a2-c81866f439ec"
      },
      "source": [
        "a = \"Life is too short\"\n",
        "a.replace(\"Life\", \"Your leg\")\n"
      ],
      "execution_count": 1,
      "outputs": [
        {
          "output_type": "execute_result",
          "data": {
            "application/vnd.google.colaboratory.intrinsic+json": {
              "type": "string"
            },
            "text/plain": [
              "'Your leg is too short'"
            ]
          },
          "metadata": {},
          "execution_count": 1
        }
      ]
    },
    {
      "cell_type": "markdown",
      "metadata": {
        "id": "1fFyzTtLVS-L"
      },
      "source": [
        "문자열 나누기(split)"
      ]
    },
    {
      "cell_type": "code",
      "metadata": {
        "colab": {
          "base_uri": "https://localhost:8080/"
        },
        "id": "vIDu21_RVXf3",
        "outputId": "56caf7dc-f2b6-43a3-dcf9-c96f94d383a0"
      },
      "source": [
        "a = \"Life is too short\"\n",
        "a.split()"
      ],
      "execution_count": 4,
      "outputs": [
        {
          "output_type": "execute_result",
          "data": {
            "text/plain": [
              "['Life', 'is', 'too', 'short']"
            ]
          },
          "metadata": {},
          "execution_count": 4
        }
      ]
    },
    {
      "cell_type": "code",
      "metadata": {
        "colab": {
          "base_uri": "https://localhost:8080/"
        },
        "id": "Sc-l2mxUVQOo",
        "outputId": "cabd2f2f-c6f5-4769-e518-4e742f5a5de9"
      },
      "source": [
        "b= \"a:b:c:d\"\n",
        "b.split(':')"
      ],
      "execution_count": 3,
      "outputs": [
        {
          "output_type": "execute_result",
          "data": {
            "text/plain": [
              "['a', 'b', 'c', 'd']"
            ]
          },
          "metadata": {},
          "execution_count": 3
        }
      ]
    },
    {
      "cell_type": "markdown",
      "metadata": {
        "id": "g7HuOfXEcRJD"
      },
      "source": [
        "리스트 자료형  List "
      ]
    },
    {
      "cell_type": "code",
      "metadata": {
        "colab": {
          "base_uri": "https://localhost:8080/"
        },
        "id": "YMCSEprLcXOk",
        "outputId": "192ba36f-3acb-4c25-e5d1-ad3f01bef191"
      },
      "source": [
        "odd = [1, 2 ,3]\n",
        "odd[-1]"
      ],
      "execution_count": 50,
      "outputs": [
        {
          "output_type": "execute_result",
          "data": {
            "text/plain": [
              "3"
            ]
          },
          "metadata": {},
          "execution_count": 50
        }
      ]
    },
    {
      "cell_type": "code",
      "metadata": {
        "colab": {
          "base_uri": "https://localhost:8080/",
          "height": 34
        },
        "id": "XxuEB_JIdEtm",
        "outputId": "b22169a9-befd-42da-fa9c-ca3747ea927b"
      },
      "source": [
        "a = [1,2,['a','b',['하나']]]\n",
        "\n",
        "print(a[ 2][2][0])"
      ],
      "execution_count": 53,
      "outputs": [
        {
          "output_type": "execute_result",
          "data": {
            "application/vnd.google.colaboratory.intrinsic+json": {
              "type": "string"
            },
            "text/plain": [
              "'하나'"
            ]
          },
          "metadata": {},
          "execution_count": 53
        }
      ]
    },
    {
      "cell_type": "code",
      "metadata": {
        "colab": {
          "base_uri": "https://localhost:8080/",
          "height": 34
        },
        "id": "N16_stheeFQm",
        "outputId": "7330c0c8-e2d8-40af-ae28-926628ee6897"
      },
      "source": [
        "a[2][0]"
      ],
      "execution_count": 58,
      "outputs": [
        {
          "output_type": "execute_result",
          "data": {
            "application/vnd.google.colaboratory.intrinsic+json": {
              "type": "string"
            },
            "text/plain": [
              "'a'"
            ]
          },
          "metadata": {},
          "execution_count": 58
        }
      ]
    },
    {
      "cell_type": "code",
      "metadata": {
        "colab": {
          "base_uri": "https://localhost:8080/"
        },
        "id": "kv6GP8jAhLBQ",
        "outputId": "cec9d848-222b-4a8a-a5f2-3a0076ced1ae"
      },
      "source": [
        "a = [1,2,3,['a','b','c '],4,5]\n",
        "a[2:5]"
      ],
      "execution_count": 59,
      "outputs": [
        {
          "output_type": "execute_result",
          "data": {
            "text/plain": [
              "[3, ['a', 'b', 'c '], 4]"
            ]
          },
          "metadata": {},
          "execution_count": 59
        }
      ]
    },
    {
      "cell_type": "code",
      "metadata": {
        "colab": {
          "base_uri": "https://localhost:8080/"
        },
        "id": "FmZ7sXhOhbYi",
        "outputId": "3240f952-d59b-47c4-fd60-6de4bf535ea6"
      },
      "source": [
        "a[3][:2]"
      ],
      "execution_count": 60,
      "outputs": [
        {
          "output_type": "execute_result",
          "data": {
            "text/plain": [
              "['a', 'b']"
            ]
          },
          "metadata": {},
          "execution_count": 60
        }
      ]
    },
    {
      "cell_type": "code",
      "metadata": {
        "colab": {
          "base_uri": "https://localhost:8080/"
        },
        "id": "K8YJcFaQh0CU",
        "outputId": "7b233c8c-249f-430f-b906-2552e7dd5fec"
      },
      "source": [
        "b= [10,11,12]\n",
        "a+b"
      ],
      "execution_count": 76,
      "outputs": [
        {
          "output_type": "execute_result",
          "data": {
            "text/plain": [
              "[1, 2, 3, ['a', 'b', 'c '], 4, 5, 10, 11, 12]"
            ]
          },
          "metadata": {},
          "execution_count": 76
        }
      ]
    },
    {
      "cell_type": "code",
      "metadata": {
        "colab": {
          "base_uri": "https://localhost:8080/"
        },
        "id": "Bfl0LUHCh4pW",
        "outputId": "c2fe936f-3baf-421f-cc1c-46b74f976e13"
      },
      "source": [
        "a *3 # a[2] + \"hi\"는 허용 안됨 3은 숫자라서 str(a[2]) 이렇게 스트링 형태로 바꿔줘야함"
      ],
      "execution_count": 63,
      "outputs": [
        {
          "output_type": "execute_result",
          "data": {
            "text/plain": [
              "[1,\n",
              " 2,\n",
              " 3,\n",
              " ['a', 'b', 'c '],\n",
              " 4,\n",
              " 5,\n",
              " 1,\n",
              " 2,\n",
              " 3,\n",
              " ['a', 'b', 'c '],\n",
              " 4,\n",
              " 5,\n",
              " 1,\n",
              " 2,\n",
              " 3,\n",
              " ['a', 'b', 'c '],\n",
              " 4,\n",
              " 5]"
            ]
          },
          "metadata": {},
          "execution_count": 63
        }
      ]
    },
    {
      "cell_type": "code",
      "metadata": {
        "colab": {
          "base_uri": "https://localhost:8080/"
        },
        "id": "_VhClB3riJXd",
        "outputId": "5e71f3ab-1b03-4c29-eb10-c0560d250f59"
      },
      "source": [
        "b[2] =3\n",
        "b"
      ],
      "execution_count": 77,
      "outputs": [
        {
          "output_type": "execute_result",
          "data": {
            "text/plain": [
              "[10, 11, 3]"
            ]
          },
          "metadata": {},
          "execution_count": 77
        }
      ]
    },
    {
      "cell_type": "code",
      "metadata": {
        "colab": {
          "base_uri": "https://localhost:8080/"
        },
        "id": "6P4GfmE4iON_",
        "outputId": "eb4c83f6-2de3-4fdc-a82f-bbc7d9d003e9"
      },
      "source": [
        "del b[1]\n",
        "b"
      ],
      "execution_count": 78,
      "outputs": [
        {
          "output_type": "execute_result",
          "data": {
            "text/plain": [
              "[10, 3]"
            ]
          },
          "metadata": {},
          "execution_count": 78
        }
      ]
    },
    {
      "cell_type": "code",
      "metadata": {
        "colab": {
          "base_uri": "https://localhost:8080/"
        },
        "id": "mGIl3iWLiTw-",
        "outputId": "c35b0acd-9d31-466e-c6c9-7026abcef2d6"
      },
      "source": [
        "b.append(4)\n",
        "b"
      ],
      "execution_count": 79,
      "outputs": [
        {
          "output_type": "execute_result",
          "data": {
            "text/plain": [
              "[10, 3, 4]"
            ]
          },
          "metadata": {},
          "execution_count": 79
        }
      ]
    },
    {
      "cell_type": "code",
      "metadata": {
        "id": "mt7NZEqTibsL"
      },
      "source": [
        "b.append([5,6])"
      ],
      "execution_count": 80,
      "outputs": []
    },
    {
      "cell_type": "code",
      "metadata": {
        "colab": {
          "base_uri": "https://localhost:8080/"
        },
        "id": "7sO1uoSsieOW",
        "outputId": "5ad70364-3ca4-418d-e3f0-757199194dfb"
      },
      "source": [
        "b"
      ],
      "execution_count": 81,
      "outputs": [
        {
          "output_type": "execute_result",
          "data": {
            "text/plain": [
              "[10, 3, 4, [5, 6]]"
            ]
          },
          "metadata": {},
          "execution_count": 81
        }
      ]
    },
    {
      "cell_type": "markdown",
      "metadata": {
        "id": "7DdrfLypi7qW"
      },
      "source": [
        "정렬 sort()"
      ]
    },
    {
      "cell_type": "code",
      "metadata": {
        "colab": {
          "base_uri": "https://localhost:8080/"
        },
        "id": "FNO-Ww-ZigAo",
        "outputId": "bf789eb3-0e82-4fe2-87a9-86ec17a9aec3"
      },
      "source": [
        "b= [2,4,1]\n",
        "b.sort()\n",
        "b"
      ],
      "execution_count": 83,
      "outputs": [
        {
          "output_type": "execute_result",
          "data": {
            "text/plain": [
              "[1, 2, 4]"
            ]
          },
          "metadata": {},
          "execution_count": 83
        }
      ]
    },
    {
      "cell_type": "code",
      "metadata": {
        "colab": {
          "base_uri": "https://localhost:8080/"
        },
        "id": "sNpr-ciZi3ug",
        "outputId": "0525fee3-baf2-4662-fd4a-a64b60e2a3dc"
      },
      "source": [
        "b.reverse()#뒤집기\n",
        "b"
      ],
      "execution_count": 84,
      "outputs": [
        {
          "output_type": "execute_result",
          "data": {
            "text/plain": [
              "[4, 2, 1]"
            ]
          },
          "metadata": {},
          "execution_count": 84
        }
      ]
    },
    {
      "cell_type": "code",
      "metadata": {
        "colab": {
          "base_uri": "https://localhost:8080/"
        },
        "id": "LTjw248LjEYG",
        "outputId": "31e00dd6-9d0e-4c79-d3e7-5fec1cc42211"
      },
      "source": [
        "b.index(1) #index도 존재함"
      ],
      "execution_count": 85,
      "outputs": [
        {
          "output_type": "execute_result",
          "data": {
            "text/plain": [
              "2"
            ]
          },
          "metadata": {},
          "execution_count": 85
        }
      ]
    },
    {
      "cell_type": "code",
      "metadata": {
        "colab": {
          "base_uri": "https://localhost:8080/"
        },
        "id": "TgRbDCpAjI2E",
        "outputId": "4c1e8e57-4589-4840-d074-ceae6136dfb0"
      },
      "source": [
        "b.insert(0,4) # 0번째 위치에 4 삽입\n",
        "b"
      ],
      "execution_count": 87,
      "outputs": [
        {
          "output_type": "execute_result",
          "data": {
            "text/plain": [
              "[4, 4, 4, 2, 1]"
            ]
          },
          "metadata": {},
          "execution_count": 87
        }
      ]
    },
    {
      "cell_type": "code",
      "metadata": {
        "colab": {
          "base_uri": "https://localhost:8080/"
        },
        "id": "viOFFa75jQoV",
        "outputId": "218485bc-1b36-4071-c8c2-48c8a66a14c3"
      },
      "source": [
        "b.remove(4) # 처음으로 나온 4를 없앰\n",
        "b"
      ],
      "execution_count": 88,
      "outputs": [
        {
          "output_type": "execute_result",
          "data": {
            "text/plain": [
              "[4, 4, 2, 1]"
            ]
          },
          "metadata": {},
          "execution_count": 88
        }
      ]
    },
    {
      "cell_type": "code",
      "metadata": {
        "colab": {
          "base_uri": "https://localhost:8080/"
        },
        "id": "rFqjVQOyjW72",
        "outputId": "acd7743e-cf41-453e-ca23-5cbe337847c4"
      },
      "source": [
        "b.pop()#가장 마지막에 들어간 것이 나옴 맨 마지막에 있느 ㄴ1이나옴 \n",
        "print(b)"
      ],
      "execution_count": 89,
      "outputs": [
        {
          "output_type": "stream",
          "name": "stdout",
          "text": [
            "[4, 4, 2]\n"
          ]
        }
      ]
    },
    {
      "cell_type": "code",
      "metadata": {
        "colab": {
          "base_uri": "https://localhost:8080/"
        },
        "id": "5vpH-zdRjbkt",
        "outputId": "f88991b2-33c1-4699-fe86-a00786369eef"
      },
      "source": [
        "print(b.pop()) # pop()안에 숫자를 넣을 시 해당 인덱스에 있는게 나옴"
      ],
      "execution_count": 90,
      "outputs": [
        {
          "output_type": "stream",
          "name": "stdout",
          "text": [
            "2\n"
          ]
        }
      ]
    },
    {
      "cell_type": "code",
      "metadata": {
        "id": "m2W8BpZJjpA3"
      },
      "source": [
        "#리스트 확장 extend(x) x에는 index만 올수 있으며 원래 a에 x를 더하게된다.\n",
        "a = [1,2,3]\n",
        "a.extend([4,5])"
      ],
      "execution_count": 91,
      "outputs": []
    },
    {
      "cell_type": "code",
      "metadata": {
        "colab": {
          "base_uri": "https://localhost:8080/"
        },
        "id": "gl355Lrmjy7-",
        "outputId": "67baa0e2-415e-4994-fbc6-3bc85b571f3c"
      },
      "source": [
        "print(a)"
      ],
      "execution_count": 92,
      "outputs": [
        {
          "output_type": "stream",
          "name": "stdout",
          "text": [
            "[1, 2, 3, 4, 5]\n"
          ]
        }
      ]
    }
  ]
}