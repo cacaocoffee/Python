{
  "nbformat": 4,
  "nbformat_minor": 0,
  "metadata": {
    "colab": {
      "name": "python.ipynb",
      "provenance": [],
      "authorship_tag": "ABX9TyPRbmEDjC5wz7KdK/TpVcO9",
      "include_colab_link": true
    },
    "kernelspec": {
      "name": "python3",
      "display_name": "Python 3"
    },
    "language_info": {
      "name": "python"
    }
  },
  "cells": [
    {
      "cell_type": "markdown",
      "metadata": {
        "id": "view-in-github",
        "colab_type": "text"
      },
      "source": [
        "<a href=\"https://colab.research.google.com/github/cacaocoffee/Python/blob/main/python.ipynb\" target=\"_parent\"><img src=\"https://colab.research.google.com/assets/colab-badge.svg\" alt=\"Open In Colab\"/></a>"
      ]
    },
    {
      "cell_type": "markdown",
      "metadata": {
        "id": "qK4V5U0QWUNT"
      },
      "source": [
        "숫자 %d \n",
        "스트링 %s\n",
        " \n",
        "\n"
      ]
    },
    {
      "cell_type": "code",
      "metadata": {
        "colab": {
          "base_uri": "https://localhost:8080/",
          "height": 34
        },
        "id": "uFU2ixq7V7jK",
        "outputId": "a762145a-6016-4d1d-ac85-3cebc67cf764"
      },
      "source": [
        "\"I have %s apples\" % 3\n",
        "#%s는 어떤 타입이든 다받을 수 있다."
      ],
      "execution_count": 9,
      "outputs": [
        {
          "output_type": "execute_result",
          "data": {
            "application/vnd.google.colaboratory.intrinsic+json": {
              "type": "string"
            },
            "text/plain": [
              "'I have 3 apples'"
            ]
          },
          "metadata": {},
          "execution_count": 9
        }
      ]
    },
    {
      "cell_type": "code",
      "metadata": {
        "colab": {
          "base_uri": "https://localhost:8080/",
          "height": 34
        },
        "id": "JzOuWK8bWPVl",
        "outputId": "5f092a9b-9c87-494c-d95a-c5273cfabe3f"
      },
      "source": [
        "\"I ate %d apples. so i was sick for %s day\" % (3.234 , 5) #변수 이름을 넣어도됨"
      ],
      "execution_count": 12,
      "outputs": [
        {
          "output_type": "execute_result",
          "data": {
            "application/vnd.google.colaboratory.intrinsic+json": {
              "type": "string"
            },
            "text/plain": [
              "'I ate 3 apples. so i was sick for 5 day'"
            ]
          },
          "metadata": {},
          "execution_count": 12
        }
      ]
    },
    {
      "cell_type": "code",
      "metadata": {
        "colab": {
          "base_uri": "https://localhost:8080/",
          "height": 34
        },
        "id": "k8hkdkfQW-Nw",
        "outputId": "9e42f86b-141d-48ac-fd62-8895538673fd"
      },
      "source": [
        "\"%-10s %10s %0.4f %10.4f\" %(\"왼쪽 정렬\", \"오른쪽 정렬\" , 3.141592 , 3.14159265)"
      ],
      "execution_count": 14,
      "outputs": [
        {
          "output_type": "execute_result",
          "data": {
            "application/vnd.google.colaboratory.intrinsic+json": {
              "type": "string"
            },
            "text/plain": [
              "'왼쪽 정렬          오른쪽 정렬 3.1416     3.1416'"
            ]
          },
          "metadata": {},
          "execution_count": 14
        }
      ]
    },
    {
      "cell_type": "markdown",
      "metadata": {
        "id": "SXMqVkhoXczO"
      },
      "source": [
        "format 함수를 사용한 포메팅 "
      ]
    },
    {
      "cell_type": "code",
      "metadata": {
        "colab": {
          "base_uri": "https://localhost:8080/",
          "height": 34
        },
        "id": "W8Fdix05XZpk",
        "outputId": "d085f77a-9512-4d07-e87c-71e0b91c5ac3"
      },
      "source": [
        "\"I eat {0} apples \".format(3) # 0번째 값"
      ],
      "execution_count": 15,
      "outputs": [
        {
          "output_type": "execute_result",
          "data": {
            "application/vnd.google.colaboratory.intrinsic+json": {
              "type": "string"
            },
            "text/plain": [
              "'I eat 3 apples '"
            ]
          },
          "metadata": {},
          "execution_count": 15
        }
      ]
    },
    {
      "cell_type": "code",
      "metadata": {
        "colab": {
          "base_uri": "https://localhost:8080/",
          "height": 34
        },
        "id": "0RqTrOjLXm8P",
        "outputId": "3742220a-85cd-4d8b-9547-aecc739eb927"
      },
      "source": [
        "num= 3\n",
        "day= \"therr\"\n",
        "\"I ate {0} apples. so i was sick for {1} day\".format(num, day) "
      ],
      "execution_count": 19,
      "outputs": [
        {
          "output_type": "execute_result",
          "data": {
            "application/vnd.google.colaboratory.intrinsic+json": {
              "type": "string"
            },
            "text/plain": [
              "'I ate 3 apples. so i was sick for therr day'"
            ]
          },
          "metadata": {},
          "execution_count": 19
        }
      ]
    },
    {
      "cell_type": "code",
      "metadata": {
        "colab": {
          "base_uri": "https://localhost:8080/",
          "height": 34
        },
        "id": "iXI3QQy4X-tG",
        "outputId": "d747ed81-1880-43b4-d583-801ea8899ca4"
      },
      "source": [
        "\"I ate {num} apples. so i was sick for {day} day\".format(num=15, day=3) "
      ],
      "execution_count": 20,
      "outputs": [
        {
          "output_type": "execute_result",
          "data": {
            "application/vnd.google.colaboratory.intrinsic+json": {
              "type": "string"
            },
            "text/plain": [
              "'I ate 15 apples. so i was sick for 3 day'"
            ]
          },
          "metadata": {},
          "execution_count": 20
        }
      ]
    },
    {
      "cell_type": "markdown",
      "metadata": {
        "id": "9MO2bRIZYFbU"
      },
      "source": [
        "왼쪽 정렬 {0:<10}\n",
        "오른쪽 정렬 {0:>10}\n",
        "가운데 정렬 {0:^10}\n",
        "\n"
      ]
    },
    {
      "cell_type": "code",
      "metadata": {
        "colab": {
          "base_uri": "https://localhost:8080/",
          "height": 34
        },
        "id": "CsW3D4TAYSeC",
        "outputId": "976a215e-1db8-4dd4-dae5-20b11ffb4d01"
      },
      "source": [
        "\"{0:=^10}\".format(\"HI\")# 정렬 사이에 문자를 넣는데로 채워짐"
      ],
      "execution_count": 22,
      "outputs": [
        {
          "output_type": "execute_result",
          "data": {
            "application/vnd.google.colaboratory.intrinsic+json": {
              "type": "string"
            },
            "text/plain": [
              "'====HI===='"
            ]
          },
          "metadata": {},
          "execution_count": 22
        }
      ]
    },
    {
      "cell_type": "markdown",
      "metadata": {
        "id": "tT53FB00YeG_"
      },
      "source": [
        ""
      ]
    },
    {
      "cell_type": "code",
      "metadata": {
        "colab": {
          "base_uri": "https://localhost:8080/",
          "height": 34
        },
        "id": "A3twHvMrYeem",
        "outputId": "bb83c83b-445b-489c-d169-cef9d20e46d4"
      },
      "source": [
        "\"{0:10.4f}\".format(3.1415926535) #소수점 표현은 일케  10은 정렬을 위해 "
      ],
      "execution_count": 24,
      "outputs": [
        {
          "output_type": "execute_result",
          "data": {
            "application/vnd.google.colaboratory.intrinsic+json": {
              "type": "string"
            },
            "text/plain": [
              "'    3.1416'"
            ]
          },
          "metadata": {},
          "execution_count": 24
        }
      ]
    },
    {
      "cell_type": "code",
      "metadata": {
        "colab": {
          "base_uri": "https://localhost:8080/",
          "height": 34
        },
        "id": "MQkX1bdZYrpn",
        "outputId": "aa7b277f-567f-4357-b214-d0f3a860be5c"
      },
      "source": [
        "\"{{and}}\".format()#포메팅시 문자열 그대로 하려면 {{}} 이렇게 그대로 사용해야한다."
      ],
      "execution_count": 26,
      "outputs": [
        {
          "output_type": "execute_result",
          "data": {
            "application/vnd.google.colaboratory.intrinsic+json": {
              "type": "string"
            },
            "text/plain": [
              "'{and}'"
            ]
          },
          "metadata": {},
          "execution_count": 26
        }
      ]
    },
    {
      "cell_type": "code",
      "metadata": {
        "colab": {
          "base_uri": "https://localhost:8080/",
          "height": 34
        },
        "id": "b1Cf3yNhY1r3",
        "outputId": "2db3f15f-619a-42c9-9ec4-9131645efb6e"
      },
      "source": [
        "name = '명석'\n",
        "age = 23\n",
        "f\"나의 이름은 {name}입니다. 나이는 {age+1} 입니다.\" #이렇게 포맨팅을 할수 있다 "
      ],
      "execution_count": 37,
      "outputs": [
        {
          "output_type": "execute_result",
          "data": {
            "application/vnd.google.colaboratory.intrinsic+json": {
              "type": "string"
            },
            "text/plain": [
              "'나의 이름은 명석입니다. 나이는 24 입니다.'"
            ]
          },
          "metadata": {},
          "execution_count": 37
        }
      ]
    },
    {
      "cell_type": "code",
      "metadata": {
        "colab": {
          "base_uri": "https://localhost:8080/",
          "height": 34
        },
        "id": "Z7G_A-ioZsRO",
        "outputId": "682b7ed4-0aac-48fe-d9cf-66af6a074efd"
      },
      "source": [
        "d = {'name':'명석' ,'age':24}\n",
        "f\"나의 이름은 {d['name']}입니다. 나이는 {d['age']} 입니다.\" #딕셔너리 사용법"
      ],
      "execution_count": 39,
      "outputs": [
        {
          "output_type": "execute_result",
          "data": {
            "application/vnd.google.colaboratory.intrinsic+json": {
              "type": "string"
            },
            "text/plain": [
              "'나의 이름은 명석입니다. 나이는 24 입니다.'"
            ]
          },
          "metadata": {},
          "execution_count": 39
        }
      ]
    },
    {
      "cell_type": "code",
      "metadata": {
        "colab": {
          "base_uri": "https://localhost:8080/",
          "height": 34
        },
        "id": "PmSf9yejaQ9_",
        "outputId": "30f034df-4d8b-40db-c2a5-0bc02fdd1c2b"
      },
      "source": [
        "f'{\"hi\":<10} {\"i am\":~>10} {\"명석\":!^10}' "
      ],
      "execution_count": 42,
      "outputs": [
        {
          "output_type": "execute_result",
          "data": {
            "application/vnd.google.colaboratory.intrinsic+json": {
              "type": "string"
            },
            "text/plain": [
              "'hi         ~~~~~~i am !!!!명석!!!!'"
            ]
          },
          "metadata": {},
          "execution_count": 42
        }
      ]
    },
    {
      "cell_type": "markdown",
      "metadata": {
        "id": "j_-EIyGZalpN"
      },
      "source": [
        "문자열 세는 함수 count"
      ]
    },
    {
      "cell_type": "code",
      "metadata": {
        "colab": {
          "base_uri": "https://localhost:8080/"
        },
        "id": "dOq7mJbkalVp",
        "outputId": "cd2c412e-3dfc-49c1-9d69-117c06b09007"
      },
      "source": [
        "a = \"hobby\"\n",
        "a.count('b')"
      ],
      "execution_count": 46,
      "outputs": [
        {
          "output_type": "execute_result",
          "data": {
            "text/plain": [
              "2"
            ]
          },
          "metadata": {},
          "execution_count": 46
        }
      ]
    },
    {
      "cell_type": "code",
      "metadata": {
        "colab": {
          "base_uri": "https://localhost:8080/"
        },
        "id": "tefzkAWla1VW",
        "outputId": "f2c1e2b4-1271-4e65-ae97-fd9663832939"
      },
      "source": [
        "a.find('y')#처음 나온위치 없으면 -1"
      ],
      "execution_count": 48,
      "outputs": [
        {
          "output_type": "execute_result",
          "data": {
            "text/plain": [
              "4"
            ]
          },
          "metadata": {},
          "execution_count": 48
        }
      ]
    },
    {
      "cell_type": "code",
      "metadata": {
        "colab": {
          "base_uri": "https://localhost:8080/"
        },
        "id": "7JA8Extma4t8",
        "outputId": "e99272c3-4c5b-46e1-b553-9913d1616f83"
      },
      "source": [
        "a.index('b') # find와 같지만 얜 없으면 오류나와 "
      ],
      "execution_count": 49,
      "outputs": [
        {
          "output_type": "execute_result",
          "data": {
            "text/plain": [
              "2"
            ]
          },
          "metadata": {},
          "execution_count": 49
        }
      ]
    },
    {
      "cell_type": "markdown",
      "metadata": {
        "id": "dcUYeEPCVo9-"
      },
      "source": [
        "Upper lower 소문자 대문자 전환\n"
      ]
    },
    {
      "cell_type": "code",
      "metadata": {
        "colab": {
          "base_uri": "https://localhost:8080/"
        },
        "id": "T8ceY3aqVwV2",
        "outputId": "1b92b2b1-b3b7-4322-9e5d-e64d029c2bf3"
      },
      "source": [
        "a = \"hi\"\n",
        "a.upper()\n",
        "b= \"IM\"\n",
        "b.lower()\n",
        "print(a,b)"
      ],
      "execution_count": 7,
      "outputs": [
        {
          "output_type": "stream",
          "name": "stdout",
          "text": [
            "hi IM\n"
          ]
        }
      ]
    },
    {
      "cell_type": "markdown",
      "metadata": {
        "id": "WoQHzsZ_VAoN"
      },
      "source": [
        "문자열 바꾸기 (replace)"
      ]
    },
    {
      "cell_type": "code",
      "metadata": {
        "colab": {
          "base_uri": "https://localhost:8080/",
          "height": 34
        },
        "id": "UAbR92TlVIVI",
        "outputId": "fce2667b-13d4-474b-a6a2-c81866f439ec"
      },
      "source": [
        "a = \"Life is too short\"\n",
        "a.replace(\"Life\", \"Your leg\")\n"
      ],
      "execution_count": 1,
      "outputs": [
        {
          "output_type": "execute_result",
          "data": {
            "application/vnd.google.colaboratory.intrinsic+json": {
              "type": "string"
            },
            "text/plain": [
              "'Your leg is too short'"
            ]
          },
          "metadata": {},
          "execution_count": 1
        }
      ]
    },
    {
      "cell_type": "markdown",
      "metadata": {
        "id": "1fFyzTtLVS-L"
      },
      "source": [
        "문자열 나누기(split)"
      ]
    },
    {
      "cell_type": "code",
      "metadata": {
        "colab": {
          "base_uri": "https://localhost:8080/"
        },
        "id": "vIDu21_RVXf3",
        "outputId": "56caf7dc-f2b6-43a3-dcf9-c96f94d383a0"
      },
      "source": [
        "a = \"Life is too short\"\n",
        "a.split()"
      ],
      "execution_count": 4,
      "outputs": [
        {
          "output_type": "execute_result",
          "data": {
            "text/plain": [
              "['Life', 'is', 'too', 'short']"
            ]
          },
          "metadata": {},
          "execution_count": 4
        }
      ]
    },
    {
      "cell_type": "code",
      "metadata": {
        "colab": {
          "base_uri": "https://localhost:8080/"
        },
        "id": "Sc-l2mxUVQOo",
        "outputId": "cabd2f2f-c6f5-4769-e518-4e742f5a5de9"
      },
      "source": [
        "b= \"a:b:c:d\"\n",
        "b.split(':')"
      ],
      "execution_count": 3,
      "outputs": [
        {
          "output_type": "execute_result",
          "data": {
            "text/plain": [
              "['a', 'b', 'c', 'd']"
            ]
          },
          "metadata": {},
          "execution_count": 3
        }
      ]
    }
  ]
}