{
  "nbformat": 4,
  "nbformat_minor": 0,
  "metadata": {
    "colab": {
      "name": "1201OSS.ipynb",
      "provenance": [],
      "collapsed_sections": [
        "braRo7KeN3yB",
        "b2FvZXw6OpkP",
        "xCrsNAoGPZzP"
      ],
      "toc_visible": true,
      "authorship_tag": "ABX9TyMQjaOhkaFPVs6AxLwwtir3",
      "include_colab_link": true
    },
    "kernelspec": {
      "name": "python3",
      "display_name": "Python 3"
    },
    "language_info": {
      "name": "python"
    }
  },
  "cells": [
    {
      "cell_type": "markdown",
      "metadata": {
        "id": "view-in-github",
        "colab_type": "text"
      },
      "source": [
        "<a href=\"https://colab.research.google.com/github/cacaocoffee/Python/blob/main/1201OSS.ipynb\" target=\"_parent\"><img src=\"https://colab.research.google.com/assets/colab-badge.svg\" alt=\"Open In Colab\"/></a>"
      ]
    },
    {
      "cell_type": "markdown",
      "metadata": {
        "id": "yAyTPMuTAXTX"
      },
      "source": [
        "함수 (def)\n",
        "---\n",
        "\n"
      ]
    },
    {
      "cell_type": "code",
      "metadata": {
        "colab": {
          "base_uri": "https://localhost:8080/"
        },
        "id": "fOvLerslARDl",
        "outputId": "54070989-f7b8-4736-b895-163f9819cd4b"
      },
      "source": [
        "def add(a,b):\n",
        "  return a+b\n",
        "\n",
        "print(add(3,4))\n",
        "print(add(\"안녕\",\"세계\"))"
      ],
      "execution_count": null,
      "outputs": [
        {
          "output_type": "stream",
          "name": "stdout",
          "text": [
            "7\n",
            "안녕세계\n"
          ]
        }
      ]
    },
    {
      "cell_type": "markdown",
      "metadata": {
        "id": "psOYDGn8Cbks"
      },
      "source": [
        "os.getcwd()\n",
        "현재 디렉토리 위치 반환 하는 함수"
      ]
    },
    {
      "cell_type": "code",
      "metadata": {
        "colab": {
          "base_uri": "https://localhost:8080/",
          "height": 35
        },
        "id": "Ex_i9AIzBPD5",
        "outputId": "57ea9c03-1bf1-42b2-b4bb-5d6f5160bfe0"
      },
      "source": [
        "import os\n",
        "os.getcwd()"
      ],
      "execution_count": null,
      "outputs": [
        {
          "output_type": "execute_result",
          "data": {
            "application/vnd.google.colaboratory.intrinsic+json": {
              "type": "string"
            },
            "text/plain": [
              "'/content'"
            ]
          },
          "metadata": {},
          "execution_count": 5
        }
      ]
    },
    {
      "cell_type": "markdown",
      "metadata": {
        "id": "iCWT3g6JCr9O"
      },
      "source": [
        "time.time() 현재 시간 알려주는 함수"
      ]
    },
    {
      "cell_type": "code",
      "metadata": {
        "colab": {
          "base_uri": "https://localhost:8080/"
        },
        "id": "2jzhB4W0Cvl9",
        "outputId": "2da4b6eb-7d4d-4701-d457-b658e683cd25"
      },
      "source": [
        "import time\n",
        "time.time()"
      ],
      "execution_count": null,
      "outputs": [
        {
          "output_type": "execute_result",
          "data": {
            "text/plain": [
              "1638346207.7317173"
            ]
          },
          "metadata": {},
          "execution_count": 7
        }
      ]
    },
    {
      "cell_type": "markdown",
      "metadata": {
        "id": "WHWce874C7FH"
      },
      "source": [
        "입력값(매개변수)이 없는 함수와\n",
        "결괏값이 없는함수"
      ]
    },
    {
      "cell_type": "code",
      "metadata": {
        "id": "te8-n_1YDDnX"
      },
      "source": [
        "def add(a, b):\n",
        "  print(\"%d, %d의 합은 %d 입니다.\" %(a,b, a+b))"
      ],
      "execution_count": null,
      "outputs": []
    },
    {
      "cell_type": "code",
      "metadata": {
        "colab": {
          "base_uri": "https://localhost:8080/"
        },
        "id": "pl-kpqLJDdvA",
        "outputId": "8ff48780-9ab4-4905-9b3c-20a7dbbc38be"
      },
      "source": [
        "add(3, 4)"
      ],
      "execution_count": null,
      "outputs": [
        {
          "output_type": "stream",
          "name": "stdout",
          "text": [
            "3, 4의 합은 7 입니다.\n"
          ]
        }
      ]
    },
    {
      "cell_type": "code",
      "metadata": {
        "colab": {
          "base_uri": "https://localhost:8080/"
        },
        "id": "5Guo5ZCKFHij",
        "outputId": "42f5e5e8-bda0-449a-8acb-cb82796cb4c8"
      },
      "source": [
        "a = add( 1, 2)\n",
        "print(a)\n",
        "#return이 없는 함수를 받으면 None 값이들어간다."
      ],
      "execution_count": null,
      "outputs": [
        {
          "output_type": "stream",
          "name": "stdout",
          "text": [
            "1, 2의 합은 3 입니다.\n",
            "None\n"
          ]
        }
      ]
    },
    {
      "cell_type": "code",
      "metadata": {
        "id": "A78P4-rMFcS7"
      },
      "source": [
        "def add(a,b):\n",
        "  return a+b"
      ],
      "execution_count": null,
      "outputs": []
    },
    {
      "cell_type": "code",
      "metadata": {
        "colab": {
          "base_uri": "https://localhost:8080/"
        },
        "id": "fYngLhKtFhrL",
        "outputId": "af5288e3-4546-4df5-8368-37c15d923179"
      },
      "source": [
        "result = add(a=3,b=4)\n",
        "print(result)\n",
        "result = add(b=9,a=4)\n",
        "print(result)\n",
        "#매개변수에 넣는 것에 대한 순서는 안지켜도됨"
      ],
      "execution_count": null,
      "outputs": [
        {
          "output_type": "stream",
          "name": "stdout",
          "text": [
            "7\n",
            "13\n"
          ]
        }
      ]
    },
    {
      "cell_type": "markdown",
      "metadata": {
        "id": "In4xkugrGMbH"
      },
      "source": [
        "매개변수가 여러개일때는 \n",
        "---\n",
        "*로 한번에 받을 수 있음\n",
        "입력값들을 전부 모아서 튜플로 변환 하게됨\n",
        "\n"
      ]
    },
    {
      "cell_type": "code",
      "metadata": {
        "id": "tU2KUFxNGBVA"
      },
      "source": [
        "def add_many(*args):\n",
        "  result = 0\n",
        "  for i in args:\n",
        "    result = result +i \n",
        "  return result\n"
      ],
      "execution_count": null,
      "outputs": []
    },
    {
      "cell_type": "code",
      "metadata": {
        "colab": {
          "base_uri": "https://localhost:8080/"
        },
        "id": "Ju7SkZALGULH",
        "outputId": "b5abcf19-fa7a-4881-f123-f03a8ce32a59"
      },
      "source": [
        "print(add_many(1,2,3,4,5,6,7,8,9,100))"
      ],
      "execution_count": null,
      "outputs": [
        {
          "output_type": "stream",
          "name": "stdout",
          "text": [
            "145\n"
          ]
        }
      ]
    },
    {
      "cell_type": "code",
      "metadata": {
        "id": "ZRPqm5wzHIPu"
      },
      "source": [
        "def add_mul(c, *args):\n",
        "  if c ==\"add\":\n",
        "    result = 0\n",
        "    for i in args:\n",
        "      result = result +i \n",
        "  elif c == \"mul\":\n",
        "    result =1\n",
        "    for i in args:\n",
        "      result = result*i\n",
        "  return result\n",
        "    "
      ],
      "execution_count": null,
      "outputs": []
    },
    {
      "cell_type": "code",
      "metadata": {
        "colab": {
          "base_uri": "https://localhost:8080/"
        },
        "id": "wpVVUu50Hfzr",
        "outputId": "3f110eb8-bef7-4269-d2de-8520fcad5183"
      },
      "source": [
        "print(add_mul(\"add\",1,2,3,4,5,6))\n",
        "print(add_mul(\"mul\",1,2,3,4,5,6))"
      ],
      "execution_count": null,
      "outputs": [
        {
          "output_type": "stream",
          "name": "stdout",
          "text": [
            "21\n",
            "720\n"
          ]
        }
      ]
    },
    {
      "cell_type": "markdown",
      "metadata": {
        "id": "ovYWwB4zH5OT"
      },
      "source": [
        "kwargs 키워드가 있는 파라미터를 쓴다는 약속 **는 딕셔너리 형태\n",
        "\n",
        "\n",
        "---\n",
        "\n",
        "\n",
        "특정 상황에 빠져 나오기위해 return 을 해도된다."
      ]
    },
    {
      "cell_type": "code",
      "metadata": {
        "id": "v6Lgxm4tH_WP"
      },
      "source": [
        "def print_kwargs(**kwargs):\n",
        "  print(kwargs)\n"
      ],
      "execution_count": null,
      "outputs": []
    },
    {
      "cell_type": "code",
      "metadata": {
        "colab": {
          "base_uri": "https://localhost:8080/"
        },
        "id": "Lwu9rPCRIH4-",
        "outputId": "0d9b1e81-67cd-47a4-c19d-e3741066769f"
      },
      "source": [
        "print_kwargs(age=24, name=\"김명석\")"
      ],
      "execution_count": null,
      "outputs": [
        {
          "output_type": "stream",
          "name": "stdout",
          "text": [
            "{'age': 24, 'name': '김명석'}\n"
          ]
        }
      ]
    },
    {
      "cell_type": "markdown",
      "metadata": {
        "id": "braRo7KeN3yB"
      },
      "source": [
        "global \n",
        "---\n",
        "\n",
        "\n",
        "\n",
        "global로 변수를 선언 함으로써 함수 바깥에도 사용가능한 전역변수로 선언가능 비추천\n"
      ]
    },
    {
      "cell_type": "code",
      "metadata": {
        "id": "2dyqsVqLOBq6"
      },
      "source": [
        "def ab():\n",
        "  global a\n",
        "  a= a+1"
      ],
      "execution_count": null,
      "outputs": []
    },
    {
      "cell_type": "code",
      "metadata": {
        "colab": {
          "base_uri": "https://localhost:8080/"
        },
        "id": "Dp9Mz7DZOM6L",
        "outputId": "406656e7-7ebf-4f0b-bcff-7c2357d45f92"
      },
      "source": [
        "a=1\n",
        "ab()\n",
        "print(a)"
      ],
      "execution_count": null,
      "outputs": [
        {
          "output_type": "stream",
          "name": "stdout",
          "text": [
            "2\n"
          ]
        }
      ]
    },
    {
      "cell_type": "markdown",
      "metadata": {
        "id": "b2FvZXw6OpkP"
      },
      "source": [
        "lambda 함수\n",
        "---\n",
        "\n",
        "람다. def와 같은 역할 \n",
        "lambda 매개변수1, 매개변수2, ...: 매개변수 표현식 \n",
        "\n",
        "---\n",
        "\n",
        "\n",
        "\n",
        "시험엔안낼거야\n",
        "\n"
      ]
    },
    {
      "cell_type": "code",
      "metadata": {
        "colab": {
          "base_uri": "https://localhost:8080/"
        },
        "id": "iUez891cPCL6",
        "outputId": "f0fd3751-a9eb-424b-f7d4-04ba62ee6f03"
      },
      "source": [
        "add = lambda a,b: a+b\n",
        "result = add(3,4)\n",
        "print(result)"
      ],
      "execution_count": null,
      "outputs": [
        {
          "output_type": "stream",
          "name": "stdout",
          "text": [
            "7\n"
          ]
        }
      ]
    },
    {
      "cell_type": "markdown",
      "metadata": {
        "id": "xCrsNAoGPZzP"
      },
      "source": [
        "사용자 입력(input)\n",
        "---\n",
        "\n",
        "출력은print\n",
        "\n",
        "\n",
        "---\n",
        "\n"
      ]
    },
    {
      "cell_type": "code",
      "metadata": {
        "colab": {
          "base_uri": "https://localhost:8080/",
          "height": 54
        },
        "id": "e0BQNMNGPdpM",
        "outputId": "13cef243-a0c6-4a56-ec17-ec304aa289f4"
      },
      "source": [
        "a= input()\n",
        "a"
      ],
      "execution_count": null,
      "outputs": [
        {
          "name": "stdout",
          "output_type": "stream",
          "text": [
            "What doesn;t kill you , make you stronger\n"
          ]
        },
        {
          "output_type": "execute_result",
          "data": {
            "application/vnd.google.colaboratory.intrinsic+json": {
              "type": "string"
            },
            "text/plain": [
              "'What doesn;t kill you , make you stronger'"
            ]
          },
          "metadata": {},
          "execution_count": 42
        }
      ]
    },
    {
      "cell_type": "code",
      "metadata": {
        "colab": {
          "base_uri": "https://localhost:8080/"
        },
        "id": "F8pr1F-hP41z",
        "outputId": "b352b68c-57ba-45ed-803c-68643f51738e"
      },
      "source": [
        "number=input()\n",
        "print(type(number))\n",
        "#무조건 스트링형이기에 int 형으로 바꾸려면\n",
        "n=int(number)\n",
        "print(type(n))"
      ],
      "execution_count": null,
      "outputs": [
        {
          "output_type": "stream",
          "name": "stdout",
          "text": [
            "1\n",
            "<class 'str'>\n",
            "<class 'int'>\n"
          ]
        }
      ]
    },
    {
      "cell_type": "code",
      "metadata": {
        "colab": {
          "base_uri": "https://localhost:8080/"
        },
        "id": "1lR2xOBlP6cP",
        "outputId": "179c6d82-35ad-479b-aec3-29d35be2e8d5"
      },
      "source": [
        "#출력\n",
        "print(\"what \"\"doesn't\")\n",
        "print(\"kill\"+\"you\")\n",
        "#둘이 같이 붙어서 나옴\n",
        "a= \"Life\"\n",
        "b=\"is\"\n",
        "c=\"too\"\n",
        "d= \"short\"\n",
        "\n",
        "print(a+b+c+d)\n",
        "print(a,b,c,d)"
      ],
      "execution_count": null,
      "outputs": [
        {
          "output_type": "stream",
          "name": "stdout",
          "text": [
            "what doesn't\n",
            "killyou\n",
            "Lifeistooshort\n",
            "Life is too short\n"
          ]
        }
      ]
    },
    {
      "cell_type": "markdown",
      "metadata": {
        "id": "sSJpQfw5RY7T"
      },
      "source": [
        "print 를 살펴보면 flush = flase로 되있는데 buffer가 꽉차야 출력이다\n"
      ]
    },
    {
      "cell_type": "code",
      "metadata": {
        "colab": {
          "base_uri": "https://localhost:8080/"
        },
        "id": "sqEGvnQbRkOS",
        "outputId": "c3f6e3ed-7aed-48ae-9b5a-08f830f84a8b"
      },
      "source": [
        "for i in range(10):\n",
        "  print(i,end=' ')\n",
        "for i in range(10):\n",
        "  print(i)"
      ],
      "execution_count": null,
      "outputs": [
        {
          "output_type": "stream",
          "name": "stdout",
          "text": [
            "0 1 2 3 4 5 6 7 8 9 0\n",
            "1\n",
            "2\n",
            "3\n",
            "4\n",
            "5\n",
            "6\n",
            "7\n",
            "8\n",
            "9\n"
          ]
        }
      ]
    },
    {
      "cell_type": "markdown",
      "metadata": {
        "id": "xvIc3eThRzos"
      },
      "source": [
        "파일\n",
        "---\n",
        "open 열기 없을 시 생성됨\n",
        "\n",
        "\n",
        "rwa사용 권한\n",
        "a는 파일 뒤에 내용 추가\n",
        "\n",
        "\n",
        "쓰기모드로 열었을 경우 해당 파일의 내용이 사라지고 아예 새로쓴 내용만 들어간다.\n",
        "\n",
        "\n",
        "open(이름 , 권한)\n",
        "\n",
        "C와 JAVA 처럼  close 를 해줘도 되지만 파이썬은 자체적으로 닫아주기에 신경을 안써도 된다. \n",
        "그러나 직접 닫아줘라 왜냐면 다시사용하려고 open시 오류 발생이 가능하기 때문"
      ]
    },
    {
      "cell_type": "code",
      "metadata": {
        "id": "ThXidgFVVQX5"
      },
      "source": [
        "f = open(\"새파일.txt\", 'w')\n",
        "for i in range(1,11):\n",
        "  data = \"%d번쨰 줄입니다.\\n\" % i\n",
        "  f.write(data)\n",
        "f.close()"
      ],
      "execution_count": null,
      "outputs": []
    },
    {
      "cell_type": "markdown",
      "metadata": {
        "id": "w-zKjMY2UQsq"
      },
      "source": [
        "readline 한줄 읽기\n",
        "\n",
        "읽을 줄이 없을경우만 none 출력"
      ]
    },
    {
      "cell_type": "code",
      "metadata": {
        "colab": {
          "base_uri": "https://localhost:8080/"
        },
        "id": "1ACr8LEuUSRS",
        "outputId": "31b389c4-bd48-4e0f-8340-672bcd5b38b5"
      },
      "source": [
        "f = open(\"새파일.txt\", 'r')\n",
        "line = f.readline()\n",
        "print(line)\n",
        "f.close()"
      ],
      "execution_count": null,
      "outputs": [
        {
          "output_type": "stream",
          "name": "stdout",
          "text": [
            "1번쨰 줄입니다.\n",
            "\n"
          ]
        }
      ]
    },
    {
      "cell_type": "code",
      "metadata": {
        "id": "bxZz-lrKX4KW"
      },
      "source": [
        "from google.colab import drive\n",
        "drive.mount('/content/drive')"
      ],
      "execution_count": null,
      "outputs": []
    },
    {
      "cell_type": "code",
      "metadata": {
        "colab": {
          "base_uri": "https://localhost:8080/"
        },
        "id": "ihgWOYjHVtWz",
        "outputId": "d2ae1149-e0fd-417e-c3dc-30293113e764"
      },
      "source": [
        "# realine_all.py\n",
        "f = open(\"C:\\newfile.txt\", 'r')\n",
        "while True:\n",
        "  line = f.readline()\n",
        "  if not line: break\n",
        "  print(line, end='')\n",
        "f.close()"
      ],
      "execution_count": null,
      "outputs": [
        {
          "output_type": "stream",
          "name": "stdout",
          "text": [
            "1번쨰 줄입니다.\n",
            "2번쨰 줄입니다.\n",
            "3번쨰 줄입니다.\n",
            "4번쨰 줄입니다.\n",
            "5번쨰 줄입니다.\n",
            "6번쨰 줄입니다.\n",
            "7번쨰 줄입니다.\n",
            "8번쨰 줄입니다.\n",
            "9번쨰 줄입니다.\n",
            "10번쨰 줄입니다.\n"
          ]
        }
      ]
    },
    {
      "cell_type": "markdown",
      "metadata": {
        "id": "Sw0gFFvVWc-d"
      },
      "source": [
        "readlines 함수\n",
        "\n",
        "\n",
        "모든 텍스트를 각 줄에 대한 리스트로 돌려준다.\n",
        "\n",
        "예시) [\"1번쨰 줄입니다\", \"2번째 \"~]"
      ]
    },
    {
      "cell_type": "code",
      "metadata": {
        "colab": {
          "base_uri": "https://localhost:8080/"
        },
        "id": "eXQW5GqrWqqi",
        "outputId": "73ca7e30-7361-4478-b92b-ca15a9d9ed61"
      },
      "source": [
        "f = open(\"새파일.txt\", 'r')\n",
        "lines = f.readlines()\n",
        "for line in lines:\n",
        "  print(line)\n",
        "f.close()"
      ],
      "execution_count": null,
      "outputs": [
        {
          "output_type": "stream",
          "name": "stdout",
          "text": [
            "1번쨰 줄입니다.\n",
            "\n",
            "2번쨰 줄입니다.\n",
            "\n",
            "3번쨰 줄입니다.\n",
            "\n",
            "4번쨰 줄입니다.\n",
            "\n",
            "5번쨰 줄입니다.\n",
            "\n",
            "6번쨰 줄입니다.\n",
            "\n",
            "7번쨰 줄입니다.\n",
            "\n",
            "8번쨰 줄입니다.\n",
            "\n",
            "9번쨰 줄입니다.\n",
            "\n",
            "10번쨰 줄입니다.\n",
            "\n"
          ]
        }
      ]
    },
    {
      "cell_type": "markdown",
      "metadata": {
        "id": "YHiP5VQjYJz3"
      },
      "source": [
        "왼쪽에 폴더 클릭해서 파일을 찾아볼수 있다. content에 들어있음\n"
      ]
    },
    {
      "cell_type": "markdown",
      "metadata": {
        "id": "68CI-8mJYNyu"
      },
      "source": [
        "read 함수 \n",
        "===\n",
        "\n",
        "파일 전체를 한줄로 출력"
      ]
    },
    {
      "cell_type": "code",
      "metadata": {
        "colab": {
          "base_uri": "https://localhost:8080/"
        },
        "id": "nPLyCsQ7ZNrm",
        "outputId": "939b646b-addb-4eda-a21e-b2c11d6c26ca"
      },
      "source": [
        " f= open(\"새파일.txt\",'r')\n",
        " data = f.read()\n",
        " print(data)\n",
        " f.close()"
      ],
      "execution_count": null,
      "outputs": [
        {
          "output_type": "stream",
          "name": "stdout",
          "text": [
            "1번쨰 줄입니다.\n",
            "2번쨰 줄입니다.\n",
            "3번쨰 줄입니다.\n",
            "4번쨰 줄입니다.\n",
            "5번쨰 줄입니다.\n",
            "6번쨰 줄입니다.\n",
            "7번쨰 줄입니다.\n",
            "8번쨰 줄입니다.\n",
            "9번쨰 줄입니다.\n",
            "10번쨰 줄입니다.\n",
            "\n"
          ]
        }
      ]
    },
    {
      "cell_type": "code",
      "metadata": {
        "id": "vklRONwDZwyy"
      },
      "source": [
        "f = open(\"새파일.txt\",'a')\n",
        "for i in range(11,20):\n",
        "  data= \"%d 번째 줄입니다.\\n\" %i\n",
        "  f.write(data)\n",
        "f.close()"
      ],
      "execution_count": null,
      "outputs": []
    },
    {
      "cell_type": "markdown",
      "metadata": {
        "id": "_HSIYdvTaGEu"
      },
      "source": [
        "with 문\n",
        "===\n",
        "\n",
        "with 문을 사용하면 with 블록을 벗어나는 순간 열린 파일이 자동으로 close된다."
      ]
    },
    {
      "cell_type": "code",
      "metadata": {
        "id": "XX2nHWxfaZF3"
      },
      "source": [
        "with open(\"foo.txt\", \"w\") as f:\n",
        "  f.write(\"what doesn't kill you makes you stronger\")"
      ],
      "execution_count": null,
      "outputs": []
    },
    {
      "cell_type": "markdown",
      "metadata": {
        "id": "2ot89TdPbHdu"
      },
      "source": [
        "C나 JAVA에서 인자를 어떻게 받는가?\n",
        "\n",
        "명령프롬프트 창에서 어떻게 인수를 받는가\n",
        "\n",
        "import sys 를 가져와서\n",
        "\n",
        "args = sys.argv[1:]\n",
        "\n",
        "for i in args:\n",
        "\n",
        "  print(i)\n",
        "\n",
        "이렇게 하면됨"
      ]
    },
    {
      "cell_type": "markdown",
      "metadata": {
        "id": "aSWt0nkBWyMY"
      },
      "source": [
        "클래스\n",
        "===\n",
        "\n",
        "개발자가 본인만의 자료형을 만들고 싶을때 class를 만든다고 볼 수 있다.\n",
        "\n",
        "객체는 달고나라면 클래스는 달고나 틀이다\n",
        "\n",
        "객체(object)와 인스턴스의 차이\n",
        "\n",
        "클래스로 만든 객체를 인스턴스라고한다."
      ]
    },
    {
      "cell_type": "code",
      "metadata": {
        "id": "2c7WUZWzXplz"
      },
      "source": [
        " class Calculator:\n",
        "  def __init__(self):\n",
        "     self.result = 0\n",
        "\n",
        "  def add(self,num):\n",
        "    self.result +=num\n",
        "    return self.result\n",
        "\n",
        "  def sub(self,num):\n",
        "    self.result -=num\n",
        "    return self.result\n"
      ],
      "execution_count": null,
      "outputs": []
    },
    {
      "cell_type": "code",
      "metadata": {
        "id": "AdLoOI6vbDfm"
      },
      "source": [
        "cal1 = Calculator()\n",
        "cal2 = Calculator()"
      ],
      "execution_count": null,
      "outputs": []
    },
    {
      "cell_type": "code",
      "metadata": {
        "colab": {
          "base_uri": "https://localhost:8080/"
        },
        "id": "597tVOxye8Qc",
        "outputId": "40b076ad-1281-40ad-8b69-d9556c01191c"
      },
      "source": [
        "str = ' A B c d' #string 클래스\n",
        "print(str.lower())\n",
        "print(str.upper())\n",
        "print(str.lstrip())\n",
        "print(str.rstrip())"
      ],
      "execution_count": null,
      "outputs": [
        {
          "output_type": "stream",
          "name": "stdout",
          "text": [
            " a b c d\n",
            " A B C D\n",
            "A B c d\n",
            " A B c d\n"
          ]
        }
      ]
    },
    {
      "cell_type": "code",
      "metadata": {
        "id": "2dnIlQk9mpZB"
      },
      "source": [
        "def mul(a =1, b=1):\n",
        "  res = a*b"
      ],
      "execution_count": null,
      "outputs": []
    },
    {
      "cell_type": "code",
      "metadata": {
        "colab": {
          "base_uri": "https://localhost:8080/"
        },
        "id": "llI13zaqmtLu",
        "outputId": "0c713469-cbe7-493a-8b52-06c27d6eecd1"
      },
      "source": [
        "print(mul())"
      ],
      "execution_count": null,
      "outputs": [
        {
          "output_type": "stream",
          "name": "stdout",
          "text": [
            "None\n"
          ]
        }
      ]
    },
    {
      "cell_type": "code",
      "source": [
        "class FourCal:\n",
        "  def setdata(self,first,second):\n",
        "    self.first=first\n",
        "    self.second = second"
      ],
      "metadata": {
        "id": "7qeVnf9XOrmW"
      },
      "execution_count": 1,
      "outputs": []
    },
    {
      "cell_type": "code",
      "source": [
        "a =FourCal()\n",
        "a.setdata(1,2) # self는 a.같은 객체를 불러주는 매개변수"
      ],
      "metadata": {
        "id": "c3TAmOyiO1_P"
      },
      "execution_count": 2,
      "outputs": []
    },
    {
      "cell_type": "markdown",
      "source": [
        "self매개변수는 함수를 호출한 객체를 자동으로 전달하기 때문이다.\n",
        "위에서의 경우엔 a. 이 self에 들어갔다."
      ],
      "metadata": {
        "id": "A9c7xGfRPDta"
      }
    },
    {
      "cell_type": "code",
      "source": [
        "b=FourCal()\n",
        "FourCal.setdata(b,4,2)"
      ],
      "metadata": {
        "id": "HuGaCvicPiqm"
      },
      "execution_count": 3,
      "outputs": []
    },
    {
      "cell_type": "markdown",
      "source": [
        "위와 같은 코드이나 결국 위 방식이 편리"
      ],
      "metadata": {
        "id": "RLRNxMv9PpFN"
      }
    },
    {
      "cell_type": "code",
      "source": [
        "print(a.first)\n",
        "print(b.first)"
      ],
      "metadata": {
        "colab": {
          "base_uri": "https://localhost:8080/"
        },
        "id": "aHagnDV7QLmV",
        "outputId": "34506db2-daf9-411f-8f5a-e1f0e08bb84d"
      },
      "execution_count": 6,
      "outputs": [
        {
          "output_type": "stream",
          "name": "stdout",
          "text": [
            "1\n",
            "4\n"
          ]
        }
      ]
    },
    {
      "cell_type": "code",
      "source": [
        "class FourCal:\n",
        "  def setdata(self,first,second):\n",
        "    self.first=first\n",
        "    self.second = second\n",
        "  def add(self):\n",
        "    result = self.first + self.second\n",
        "    return result"
      ],
      "metadata": {
        "id": "DvRGVSrGQQRC"
      },
      "execution_count": 7,
      "outputs": []
    },
    {
      "cell_type": "code",
      "source": [
        "a =FourCal()\n",
        "a.setdata(1,2)\n",
        "print(a.add())"
      ],
      "metadata": {
        "colab": {
          "base_uri": "https://localhost:8080/"
        },
        "id": "JGt1hogsRCJo",
        "outputId": "043991b6-6a46-4449-e9d9-00a7cf6f2a35"
      },
      "execution_count": 8,
      "outputs": [
        {
          "output_type": "stream",
          "name": "stdout",
          "text": [
            "3\n"
          ]
        }
      ]
    },
    {
      "cell_type": "markdown",
      "source": [
        "생성자\n",
        "---\n",
        "\n",
        "#__init__"
      ],
      "metadata": {
        "id": "_UoCND1WTkx4"
      }
    },
    {
      "cell_type": "code",
      "source": [
        "class FourCal:\n",
        "  def __init__(self,first,second):\n",
        "    self.first=first\n",
        "    self.second = second\n",
        "  def setdata(self,first,second):\n",
        "    self.first=first\n",
        "    self.second = second\n",
        "  def add(self):\n",
        "    result = self.first + self.second\n",
        "    return result"
      ],
      "metadata": {
        "id": "W-g-8eixTvEH"
      },
      "execution_count": 9,
      "outputs": []
    },
    {
      "cell_type": "code",
      "source": [
        "#c =FourCal()\n",
        "c =FourCal(1,3)"
      ],
      "metadata": {
        "id": "40pxR_9ZT4kP"
      },
      "execution_count": 11,
      "outputs": []
    },
    {
      "cell_type": "markdown",
      "source": [
        "상속\n",
        "---\n"
      ],
      "metadata": {
        "id": "0t4K_QpUT340"
      }
    },
    {
      "cell_type": "code",
      "source": [
        "class More(FourCal):\n",
        "  pass"
      ],
      "metadata": {
        "id": "3zQsnZ2aVZyE"
      },
      "execution_count": 12,
      "outputs": []
    },
    {
      "cell_type": "code",
      "source": [
        "a=More(1,4)\n",
        "print(a.add())"
      ],
      "metadata": {
        "colab": {
          "base_uri": "https://localhost:8080/"
        },
        "id": "s7M32flTVgiZ",
        "outputId": "1dc9b970-3433-48c8-c76a-686d0a4fb7f9"
      },
      "execution_count": 13,
      "outputs": [
        {
          "output_type": "stream",
          "name": "stdout",
          "text": [
            "5\n"
          ]
        }
      ]
    },
    {
      "cell_type": "code",
      "source": [
        "# ** 제곱연산자\n",
        "2**3"
      ],
      "metadata": {
        "colab": {
          "base_uri": "https://localhost:8080/"
        },
        "id": "opwYbRwSVsbj",
        "outputId": "740cae01-c0da-4034-866a-d72a1410c8dc"
      },
      "execution_count": 14,
      "outputs": [
        {
          "output_type": "execute_result",
          "data": {
            "text/plain": [
              "8"
            ]
          },
          "metadata": {},
          "execution_count": 14
        }
      ]
    }
  ]
}